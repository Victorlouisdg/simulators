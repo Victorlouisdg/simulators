{
  "nbformat": 4,
  "nbformat_minor": 0,
  "metadata": {
    "colab": {
      "name": "differentiable_sparse_matrix.ipynb",
      "provenance": [],
      "collapsed_sections": [],
      "authorship_tag": "ABX9TyMuJbMO1lrPaB5m/REMMg+B",
      "include_colab_link": true
    },
    "kernelspec": {
      "name": "python3",
      "display_name": "Python 3"
    },
    "language_info": {
      "name": "python"
    }
  },
  "cells": [
    {
      "cell_type": "markdown",
      "metadata": {
        "id": "view-in-github",
        "colab_type": "text"
      },
      "source": [
        "<a href=\"https://colab.research.google.com/github/Victorlouisdg/simulators/blob/main/differentiable_sparse_matrix.ipynb\" target=\"_parent\"><img src=\"https://colab.research.google.com/assets/colab-badge.svg\" alt=\"Open In Colab\"/></a>"
      ]
    },
    {
      "cell_type": "code",
      "metadata": {
        "id": "1BlbWTuWAm8U"
      },
      "source": [
        "!pip install meshzoo"
      ],
      "execution_count": null,
      "outputs": []
    },
    {
      "cell_type": "code",
      "metadata": {
        "id": "_DBbgSsyA1_s"
      },
      "source": [
        "import numpy as np\n",
        "import jax.numpy as jnp\n",
        "import jax.scipy.sparse\n",
        "from jax import grad, jit, vmap\n",
        "from jax import jacfwd, jacrev\n",
        "from jax.lax import cond, scan\n",
        "from jax.ops import index, index_add, index_update\n",
        "np.set_printoptions(precision=3, suppress=True)\n",
        "import meshzoo\n",
        "import matplotlib\n",
        "import matplotlib.pyplot as plt\n",
        "from matplotlib import animation, rc\n",
        "from IPython.display import HTML\n",
        "matplotlib.rc('animation', html='jshtml')\n",
        "from functools import partial\n"
      ],
      "execution_count": null,
      "outputs": []
    },
    {
      "cell_type": "code",
      "metadata": {
        "id": "9YYIQyD6A7zb"
      },
      "source": [
        "vertex_positions_uv, triangle_vertex_indices = meshzoo.rectangle_tri(\n",
        "    (0.0, 0.0),\n",
        "    (1.0, 1.0),\n",
        "    n=2,\n",
        "    variant=\"zigzag\",  # or \"up\", \"down\", \"center\"\n",
        ")\n",
        "\n",
        "print(vertex_positions_uv.shape)\n",
        "print(triangle_vertex_indices.shape)\n",
        "\n",
        "vertex_positions_uv = jnp.array(vertex_positions_uv)\n",
        "print(vertex_positions_uv.shape)\n",
        "# print(vertex_positions_uv[jnp.array([0,1,2])])\n",
        "\n",
        "amount_of_triangles = triangle_vertex_indices.shape[0]"
      ],
      "execution_count": null,
      "outputs": []
    },
    {
      "cell_type": "code",
      "metadata": {
        "id": "6yR69o3gA9oy"
      },
      "source": [
        "amount_of_vertices = vertex_positions_uv.shape[0]\n",
        "vertex_positions_z = np.zeros(amount_of_vertices)\n",
        "vertex_positions = jnp.column_stack([vertex_positions_uv, vertex_positions_z]).flatten()\n",
        "vertex_velocities = jnp.zeros_like(vertex_positions)\n",
        "\n",
        "m0 = 100000.0\n",
        "m1 = 1.0\n",
        "masses = jnp.array([m0, m0, m0, m0, m0, m0, m1, m1, m1, m1, m1, m1])\n",
        "M = jnp.diag(masses)"
      ],
      "execution_count": null,
      "outputs": []
    },
    {
      "cell_type": "code",
      "metadata": {
        "id": "4vh20TtCA_UI"
      },
      "source": [
        "\n",
        "def plot_cloth(ax, vertex_positions, triangle_vertex_indices):\n",
        "    # x, y, z = vertex_positions.transpose()\n",
        "    x = vertex_positions[0::3]\n",
        "    y = vertex_positions[1::3]\n",
        "    z = vertex_positions[2::3]\n",
        "\n",
        "    ax.clear()  # necessary for the animations\n",
        "    ax.plot_trisurf(x, y, z, triangles=triangle_vertex_indices, color='deepskyblue')\n",
        "    ax.scatter(x, y, z, c='deeppink', s=20, depthshade=False)\n",
        "    for i, (xi, yi, zi) in enumerate(zip(x, y, z)):\n",
        "        ax.text(xi, yi, zi, str(i), fontsize='medium', color='black', zorder=10)\n",
        "    ax.set_xlabel('x')\n",
        "    ax.set_ylabel('y')\n",
        "    ax.set_zlabel('z')\n",
        "    ax.set_xlim([-0.1, 1.1])\n",
        "    ax.set_ylim([-0.1, 1.1])\n",
        "    ax.set_zlim([-2, 0.25])\n",
        "\n",
        "fig = plt.figure(figsize=(8, 6), dpi=100)\n",
        "ax = fig.add_subplot(111, projection='3d')\n",
        "plot_cloth(ax, vertex_positions, triangle_vertex_indices)"
      ],
      "execution_count": null,
      "outputs": []
    },
    {
      "cell_type": "code",
      "metadata": {
        "id": "aNlij0ziBBe6"
      },
      "source": [
        "def triangle_area(triangle_vertices):\n",
        "    v0, v1, v2 = triangle_vertices\n",
        "    return jnp.linalg.norm(jnp.cross(v1 - v0, v2 - v0)) / 2.0"
      ],
      "execution_count": null,
      "outputs": []
    },
    {
      "cell_type": "code",
      "metadata": {
        "id": "A3hgLJvtCY-U"
      },
      "source": [
        "def slice3(i):\n",
        "    return slice(3*i, 3*i+3)\n",
        "\n",
        "i, j, k = triangle_vertex_indices[0]\n",
        "\n",
        "uv0, uv1, uv2 = vertex_positions_uv[jnp.array([i, j, k])]\n",
        "\n",
        "x0 = vertex_positions[slice3(i)]\n",
        "x1 = vertex_positions[slice3(j)]\n",
        "x2 = vertex_positions[slice3(k)]\n",
        "\n",
        "triangle_area((x0, x1, x2))"
      ],
      "execution_count": null,
      "outputs": []
    },
    {
      "cell_type": "code",
      "metadata": {
        "id": "C7QgyRZrBSOK"
      },
      "source": [
        "area_grad = grad(triangle_area)"
      ],
      "execution_count": null,
      "outputs": []
    },
    {
      "cell_type": "code",
      "metadata": {
        "id": "rqBHz6buCu7L"
      },
      "source": [
        "area_grad((x0, x1, x2))"
      ],
      "execution_count": null,
      "outputs": []
    },
    {
      "cell_type": "code",
      "metadata": {
        "id": "7hJp3ZzQCxz_"
      },
      "source": [
        "triangle_stretch_stiffness_u = np.ones(amount_of_triangles)\n",
        "triangle_stretch_stiffness_v = np.ones(amount_of_triangles)"
      ],
      "execution_count": null,
      "outputs": []
    },
    {
      "cell_type": "code",
      "metadata": {
        "id": "JpZrF5iGZJJR"
      },
      "source": [
        "def deformation_gradient(vertex_positions, vertex_positions_uv):\n",
        "    uv0, uv1, uv2 = vertex_positions_uv\n",
        "    u0, v0 = uv0\n",
        "    u1, v1 = uv1\n",
        "    u2, v2 = uv2\n",
        "\n",
        "    delta_u1 = u1 - u0\n",
        "    delta_u2 = u2 - u0\n",
        "    delta_v1 = v1 - v0\n",
        "    delta_v2 = v2 - v0\n",
        "\n",
        "    delta_u_matrix = jnp.array([(delta_u1, delta_u2),\n",
        "                               (delta_v1, delta_v2)])\n",
        "    \n",
        "    inverted_delta_u_matrix = jnp.linalg.inv(delta_u_matrix)\n",
        "\n",
        "    x0, x1, x2 = vertex_positions\n",
        "\n",
        "    delta_x1 = x1 - x0\n",
        "    delta_x2 = x2 - x0\n",
        "\n",
        "    delta_x_matrix = jnp.column_stack((delta_x1, delta_x2))\n",
        "\n",
        "    # Equation (9) in Baraff-Witkin.\n",
        "    w_uv = delta_x_matrix @ inverted_delta_u_matrix\n",
        "    \n",
        "    wu, wv = jnp.hsplit(w_uv, 2)\n",
        "\n",
        "    return wu, wv\n",
        "\n",
        "deformation_gradient((x0, x1, x2), (uv0, uv1, uv2))\n",
        "\n",
        "# jacrev(deformation_gradient)((x0, x1, x2), (uv0, uv1, uv2))"
      ],
      "execution_count": null,
      "outputs": []
    },
    {
      "cell_type": "code",
      "metadata": {
        "id": "YWf7DngJcecA"
      },
      "source": [
        "def stretch_energy(vertex_positions, vertex_positions_uv):\n",
        "    wu, wv = deformation_gradient(vertex_positions, vertex_positions_uv)\n",
        "    area_uv = triangle_area(vertex_positions_uv)\n",
        "\n",
        "    Cu = area_uv * (jnp.linalg.norm(wu) - 1.0)\n",
        "    Cv = area_uv * (jnp.linalg.norm(wv) - 1.0)\n",
        "\n",
        "    Eu = 0.5 * (Cu ** 2)\n",
        "    Ev = 0.5 * (Cv ** 2)\n",
        "\n",
        "    E = Eu + Ev\n",
        "    return E\n",
        "\n",
        "print(i, j, k)\n",
        "print(uv0, uv1, uv2)\n",
        "print(x0, x1, x2)\n",
        "\n",
        "stretch_energy((x0, x1, x2), (uv0, uv1, uv2))"
      ],
      "execution_count": null,
      "outputs": []
    },
    {
      "cell_type": "code",
      "metadata": {
        "id": "NAHKxruvatIn"
      },
      "source": [
        "grad(stretch_energy)((x0, x1, x2), (uv0, uv1, uv2))"
      ],
      "execution_count": null,
      "outputs": []
    },
    {
      "cell_type": "code",
      "metadata": {
        "id": "JAlSCz1Ud3mx"
      },
      "source": [
        "def hessian(f):\n",
        "    return jacfwd(jacrev(f))\n",
        "\n",
        "H = hessian(stretch_energy)((x0, x1, x2), (uv0, uv1, uv2))\n",
        "print(len(H))\n",
        "print(len(H[0]))\n",
        "for i in range(3):\n",
        "    for j in range(3):\n",
        "        print(i, j)\n",
        "        print(H[i][j])"
      ],
      "execution_count": null,
      "outputs": []
    },
    {
      "cell_type": "code",
      "metadata": {
        "id": "WC13UOIvXN5U"
      },
      "source": [
        "    \n",
        "# TODO function:\n",
        "\n",
        "# total_energy(positions)\n",
        "\n",
        "# grad(total_energy)\n",
        "\n",
        "\n",
        "def triangle_energy(positions, positions_uv, vertex_indices):\n",
        "  i, j, k = vertex_indices\n",
        "\n",
        "  uv0 = positions_uv[i]\n",
        "  uv1 = positions_uv[j]\n",
        "  uv2 = positions_uv[k]\n",
        "\n",
        "  x0 = jax.lax.dynamic_slice(positions, [i], [3])\n",
        "  x1 = jax.lax.dynamic_slice(positions, [j], [3])\n",
        "  x2 = jax.lax.dynamic_slice(positions, [k], [3])\n",
        "\n",
        "#   print(i, j, k)\n",
        "#   print(uv0, uv1, uv2)\n",
        "#   print(x0, x1, x2)\n",
        "\n",
        "  energy = 100.0 * stretch_energy((x0, x1, x2), (uv0, uv1, uv2))\n",
        "  return energy\n",
        "\n",
        "triangle_energy_jit = partial(triangle_energy, \n",
        "                              vertex_positions, \n",
        "                              vertex_positions_uv)\n",
        "\n",
        "\n",
        "print(triangle_energy_jit(triangle_vertex_indices[0]))\n",
        "print(triangle_energy_jit(triangle_vertex_indices[1]))"
      ],
      "execution_count": null,
      "outputs": []
    },
    {
      "cell_type": "code",
      "metadata": {
        "id": "YNgjJmB_a8i8"
      },
      "source": [
        "def energy_sum(carry, input, f):\n",
        "    energy = f(input)\n",
        "    carry = energy + carry\n",
        "    output = carry\n",
        "    return carry, carry\n",
        "\n",
        "# (maybe better: vmap energy, then sum)\n",
        "\n",
        "def total_energy(positions, positions_uv, triangle_vertex_indices):\n",
        "\n",
        "    triangle_energy_jit = partial(triangle_energy, \n",
        "                                positions, \n",
        "                                positions_uv)\n",
        "    \n",
        "\n",
        "    energy_sum_f = partial(energy_sum, f=triangle_energy_jit)\n",
        "\n",
        "    sum = scan(energy_sum_f, 0.0, triangle_vertex_indices)[0]\n",
        "    return sum\n",
        "\n",
        "\n",
        "vertex_positions = index_add(vertex_positions, index[10], 1.0)\n",
        "\n",
        "total_energy(vertex_positions, vertex_positions_uv, triangle_vertex_indices)"
      ],
      "execution_count": null,
      "outputs": []
    },
    {
      "cell_type": "code",
      "metadata": {
        "id": "xl3Ea-ZweR-a"
      },
      "source": [
        "grad(total_energy)(vertex_positions, vertex_positions_uv, triangle_vertex_indices)"
      ],
      "execution_count": null,
      "outputs": []
    },
    {
      "cell_type": "code",
      "metadata": {
        "id": "cmKMeIuLebe0"
      },
      "source": [
        "hessian(total_energy)(vertex_positions, vertex_positions_uv, triangle_vertex_indices)"
      ],
      "execution_count": null,
      "outputs": []
    },
    {
      "cell_type": "code",
      "metadata": {
        "id": "XK72cPaSfE_p"
      },
      "source": [
        "steps = 1000\n",
        "time = 5.0\n",
        "h = dt = time / steps\n",
        "\n",
        "standard_gravity = -9.81\n",
        "gravity_forces = standard_gravity * masses\n",
        "gravity_forces = index_update(gravity_forces, index[0:6], 0.0)\n",
        "gravity_forces = index_update(gravity_forces, index[6:8], 0.0)\n",
        "gravity_forces = index_update(gravity_forces, index[9:11], 0.0)\n",
        "\n",
        "# print(gravity_forces)\n",
        "\n",
        "\n",
        "def calculate_forces_and_derivatives(positions, positions_uv, triangle_vertex_indices):\n",
        "    f0 = grad(total_energy)(positions, positions_uv, triangle_vertex_indices)\n",
        "    dfdx = hessian(total_energy)(positions, positions_uv, triangle_vertex_indices)\n",
        "    return f0, dfdx\n",
        "\n",
        "\n",
        "def simulate_step_implicit(carry, step_number, params): \n",
        "    positions, velocities = carry\n",
        "\n",
        "    k, rest_length, positions_uv, triangle_vertex_indices = params\n",
        "\n",
        "    f0, dfdx = calculate_forces_and_derivatives(positions, positions_uv, triangle_vertex_indices)\n",
        "\n",
        "    v0 = velocities\n",
        "    # f0 = -spring_force(positions, k, rest_length)\n",
        "    f0 = f0 + gravity_forces\n",
        "\n",
        "    I = jnp.identity(6)\n",
        "\n",
        "    # dfdx = -spring_jacobian(positions, k, rest_length)\n",
        "\n",
        "    A = M - (h * h) * dfdx;\n",
        "    b = h * (f0 + h * (dfdx @ v0));\n",
        "\n",
        "    A_func = lambda x : A @ x\n",
        "\n",
        "    delta_v = jax.scipy.sparse.linalg.cg(A_func, b)[0]\n",
        "\n",
        "    velocities_new = velocities + delta_v\n",
        "    positions_new  = positions + velocities * dt\n",
        "\n",
        "\n",
        "    carry = positions_new, velocities_new\n",
        "    output = positions_new\n",
        "    return (carry, output)"
      ],
      "execution_count": null,
      "outputs": []
    },
    {
      "cell_type": "code",
      "metadata": {
        "id": "2Fqcl22yYjIA"
      },
      "source": [
        "def simulate_full(k, rest_length, positions, velocities):\n",
        "    params = k, rest_length, vertex_positions_uv, triangle_vertex_indices\n",
        "    simulate_step_jit =  jit(partial(simulate_step_implicit, params=params))\n",
        "\n",
        "    carry0 = positions, velocities\n",
        "    history = scan(simulate_step_jit, carry0, np.arange(steps))[1]\n",
        "    return history\n",
        "\n",
        "history = simulate_full(0.0, 0.0, vertex_positions, vertex_velocities)"
      ],
      "execution_count": null,
      "outputs": []
    },
    {
      "cell_type": "code",
      "metadata": {
        "id": "ekOIkJBghMTK"
      },
      "source": [
        "def animate_cloth(history, dt, fps=30):\n",
        "    fig = plt.figure(figsize=(5, 5), dpi=100)\n",
        "    fig.subplots_adjust(0,0,1,1,0,0) # less padding\n",
        "    ax = fig.add_subplot(111, projection='3d')\n",
        "    plt.close()  # prevents duplicate output \n",
        "\n",
        "    fps_simulation = 1 / dt\n",
        "    skip = np.floor(fps_simulation / fps).astype(np.int32)\n",
        "    fps_adjusted = fps_simulation / skip\n",
        "    print('fps was adjusted to:', fps_adjusted)\n",
        "\n",
        "    def animate(i):\n",
        "        j = min(i * skip, len(history) - 1)\n",
        "        plot_cloth(ax, history[j], triangle_vertex_indices)\n",
        "        ax.text2D(0.1, 0.9, 't = {:.3f}s'.format(j * dt), transform=ax.transAxes)\n",
        "\n",
        "\n",
        "    n_frames = (len(history) - 1) // skip + 1\n",
        "    interval = 1000*dt*skip\n",
        "    anim = animation.FuncAnimation(fig, animate, frames=n_frames, interval=interval)\n",
        "    return anim\n",
        "\n",
        "animate_cloth(history, dt)"
      ],
      "execution_count": null,
      "outputs": []
    },
    {
      "cell_type": "code",
      "metadata": {
        "id": "0W7tNPcqjDso"
      },
      "source": [
        ""
      ],
      "execution_count": null,
      "outputs": []
    }
  ]
}