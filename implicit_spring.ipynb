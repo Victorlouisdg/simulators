{
  "nbformat": 4,
  "nbformat_minor": 0,
  "metadata": {
    "colab": {
      "name": "implicit_spring.ipynb",
      "provenance": [],
      "collapsed_sections": [],
      "authorship_tag": "ABX9TyNgTxgTpk3PBGG56dYCGSob",
      "include_colab_link": true
    },
    "kernelspec": {
      "name": "python3",
      "display_name": "Python 3"
    },
    "language_info": {
      "name": "python"
    }
  },
  "cells": [
    {
      "cell_type": "markdown",
      "metadata": {
        "id": "view-in-github",
        "colab_type": "text"
      },
      "source": [
        "<a href=\"https://colab.research.google.com/github/Victorlouisdg/simulators/blob/main/implicit_spring.ipynb\" target=\"_parent\"><img src=\"https://colab.research.google.com/assets/colab-badge.svg\" alt=\"Open In Colab\"/></a>"
      ]
    },
    {
      "cell_type": "code",
      "metadata": {
        "id": "x2RaRihNRGau"
      },
      "source": [
        "import numpy as np\n",
        "import scipy\n",
        "import scipy.linalg\n",
        "from IPython.display import HTML\n",
        "import matplotlib.pyplot as plt\n",
        "from matplotlib import animation, rc\n",
        "rc('animation', html='jshtml')\n",
        "np.set_printoptions(precision=3, suppress=True)"
      ],
      "execution_count": 1,
      "outputs": []
    },
    {
      "cell_type": "code",
      "metadata": {
        "id": "CLLfIQbrRLQ4"
      },
      "source": [
        "x0 = np.array([0.0, 0.0, 0.0])\n",
        "x1 = np.array([1.0, 0.0, 0.0])\n",
        "positions = [x0, x1]\n",
        "\n",
        "v0 = np.zeros(3)\n",
        "v1 = np.zeros(3)\n",
        "velocities = [v0, v1]\n",
        "\n",
        "masses = [1.0, 1.0]\n",
        "inverted_masses = [0.0, 1.0]\n",
        "\n",
        "M_inv = np.zeros((6,6))\n",
        "for i in range(6):\n",
        "    j = 0 if i < 3 else 1\n",
        "    M_inv[i, i] = inverted_masses[j]"
      ],
      "execution_count": 2,
      "outputs": []
    },
    {
      "cell_type": "code",
      "metadata": {
        "colab": {
          "base_uri": "https://localhost:8080/",
          "height": 295
        },
        "id": "FCvbLCMNiAm6",
        "outputId": "173d569f-01f4-456f-8209-fbdf491a2cfd"
      },
      "source": [
        "positions = np.vstack([x0, x1])\n",
        "x, y, z = np.transpose(positions)  # Reads the x and y columns\n",
        "\n",
        "fig = plt.figure()\n",
        "ax = fig.add_subplot(111, aspect='equal', xlim=(-2, 2), ylim=(-2, 2))\n",
        "ax.grid()\n",
        "ax.set_title('Initial configuration of the system')\n",
        "ax.set_xlabel('x')\n",
        "ax.set_ylabel('z')\n",
        "ax.plot(x, z, 'o-', lw=2);"
      ],
      "execution_count": 3,
      "outputs": [
        {
          "output_type": "display_data",
          "data": {
            "image/png": "[encoded data removed]",
            "text/plain": [
              "<Figure size 432x288 with 1 Axes>"
            ]
          },
          "metadata": {
            "tags": [],
            "needs_background": "light"
          }
        }
      ]
    },
    {
      "cell_type": "code",
      "metadata": {
        "id": "l0BszSa7YA_C"
      },
      "source": [
        "# Physical constants\n",
        "m = 0.1        # kg\n",
        "k = 500000        # N / m\n",
        "rest_length = 1.0   # m\n",
        "g = 9.80665    # m/s^2\n",
        "ag = np.array([0.0, 0.0, -g])  # acceleration due to gravity\n",
        "\n",
        "dt = 0.01\n",
        "forces = [np.zeros(3), np.zeros(3)]\n",
        "\n",
        "force_derivatives = [[np.zeros((3,3)), np.zeros((3,3))], \n",
        "                     [np.zeros((3,3)), np.zeros((3,3))]]\n",
        "\n",
        "\n",
        "timesteps = 500"
      ],
      "execution_count": 4,
      "outputs": []
    },
    {
      "cell_type": "code",
      "metadata": {
        "id": "GvN9bfTlYDcY"
      },
      "source": [
        "def spring_force(x0, x1, k, rest_length):\n",
        "    spring = x1 - x0\n",
        "    length = np.linalg.norm(spring)\n",
        "    direction = spring / length\n",
        "    force = k * (length - rest_length) * direction\n",
        "    return force\n",
        "\n",
        "def spring_jacobian(x0, x1, k, rest_length):\n",
        "    spring = x1 - x0\n",
        "    length = np.linalg.norm(spring)\n",
        "    direction = spring / length\n",
        "    spring_outer = np.outer(direction, direction)\n",
        "    # if (length < rest_length):\n",
        "    #     force_derivative = -k * spring_outer\n",
        "    # else:\n",
        "    force_derivative = -k * (spring_outer + (1 - rest_length / length) * (np.identity(3) - spring_outer))\n",
        "    return force_derivative\n",
        "\n",
        "def stretch_force_macklin(xi, xj, ks, r):\n",
        "    xij = xi - xj\n",
        "    xij_norm = np.linalg.norm(xij)\n",
        "    xij_hat = xij / xij_norm\n",
        "    Fs = - ks * (xij_norm - r) * xij_hat\n",
        "    return Fs\n",
        "\n",
        "def stretch_force_jacobian(xi, xj, ks, r):\n",
        "    xij = xi - xj\n",
        "    xij_norm = np.linalg.norm(xij)\n",
        "    xij_hat = xij / xij_norm\n",
        "\n",
        "    term1 = (1 - r / xij_norm) * (np.identity(3) - np.outer(xij_hat, xij_hat))\n",
        "    term2 = np.outer(xij_hat, xij_hat)\n",
        "    dFs_dxi = -ks * (term1 + term2)\n",
        "    return dFs_dxi\n",
        "\n",
        "def calculate_forces():\n",
        "    x0 = positions[0]\n",
        "    x1 = positions[1]\n",
        "    # force = spring_force(x0, x1, k, rest_length)\n",
        "    # force = stretch_force_macklin(x0, x1, k, rest_length)\n",
        "\n",
        "    \n",
        "    # forces[0] += force\n",
        "    # forces[1] -= force\n",
        "\n",
        "\n",
        "    forces[0] += stretch_force_macklin(x0, x1, k, rest_length)\n",
        "    forces[1] += stretch_force_macklin(x1, x0, k, rest_length)\n",
        "\n",
        "\n",
        "    # h = 0.000001\n",
        "    # print(\"Finite diff\")\n",
        "    # for m in range(3):\n",
        "    #     x0_h = x0.copy()\n",
        "    #     x0_h[m] += h\n",
        "    #     force_h = spring_force(x0_h, x1, k, rest_length)\n",
        "    #     force_jacobian_finite_diff = (force_h - force) / h\n",
        "    #     print(force_jacobian_finite_diff)\n",
        "\n",
        "    # print(\"Analytic\")\n",
        "    # force_derivative = spring_jacobian(x0, x1, k, rest_length)\n",
        "    \n",
        "    # force_derivative = spring_jacobian(x0, x1, k, rest_length)\n",
        "\n",
        "    # print(force_derivative)\n",
        "\n",
        "    # force_derivatives[0][1] += force_derivative\n",
        "    # force_derivatives[1][0] += force_derivative\n",
        "\n",
        "    force_derivative = stretch_force_jacobian(x0, x1, k, rest_length)\n",
        "\n",
        "    force_derivatives[0][0] += force_derivative\n",
        "    force_derivatives[0][1] -= force_derivative\n",
        "    force_derivatives[1][0] -= force_derivative\n",
        "    force_derivatives[1][1] += force_derivative\n",
        "\n",
        "\n",
        "    # J = df0/dx0, df0/dx1\n",
        "    #     df1/dx0, df1/dx1 \n",
        "\n",
        "    # force_derivatives[0][0] += stretch_force_jacobian(x0, x1, k, rest_length)\n",
        "    # force_derivatives[1][1] += stretch_force_jacobian(x1, x0, k, rest_length)\n",
        "\n",
        "    # Gravity\n",
        "    forces[0] += np.array([0.0, 0.0, -masses[0] * g])\n",
        "    forces[1] += np.array([0.0, 0.0, -masses[1] * g])\n",
        "\n",
        "\n",
        "def integrate_explicit():\n",
        "    for i in range(2):\n",
        "        x = positions[i]\n",
        "        v = velocities[i]\n",
        "        force = forces[i]\n",
        "        m_inv = inverted_masses[i]\n",
        "\n",
        "        a = force * m_inv\n",
        "\n",
        "        if i == 0:\n",
        "            a = np.zeros(3)\n",
        "\n",
        "        v += a * dt\n",
        "        x += v * dt\n",
        "\n",
        "        positions[i] = x\n",
        "        velocities[i] = v\n",
        "\n",
        "def integrate_implicit():\n",
        "    h = dt\n",
        "    f0 = np.zeros((6,1))\n",
        "    v0 = np.zeros((6,1))\n",
        "\n",
        "    for i in range(2):\n",
        "        f0[3*i] = forces[i][0]\n",
        "        f0[3*i+1] = forces[i][1]\n",
        "        f0[3*i+2] = forces[i][2]\n",
        "        v0[3*i] = velocities[i][0]\n",
        "        v0[3*i+1] = velocities[i][1]\n",
        "        v0[3*i+2] = velocities[i][2]\n",
        "\n",
        "    I = np.identity(6)\n",
        "\n",
        "    dfdx = np.zeros((6,6))\n",
        "    for i in range(2):\n",
        "        for j in range(2):\n",
        "            dfdx[3*i:3*i+3, 3*j:3*j+3] = force_derivatives[i][j]\n",
        "    print(dfdx)\n",
        "\n",
        "\n",
        "    A = I - (h ** 2) * M_inv @ dfdx\n",
        "    b = h * M_inv @ (f0 + h * dfdx @ v0)\n",
        "\n",
        "    delta_v = np.linalg.solve(A, b)\n",
        "\n",
        "    print(delta_v)\n",
        "    # delta_v = scipy.linalg.solve(A, b)\n",
        "    # delta_v, _, _, _ = scipy.linalg.lstsq(A, b)\n",
        "\n",
        "    print(\"A dv - b \", A @ delta_v - b)\n",
        "    print(np.allclose(A @ delta_v - b, 0.0))\n",
        "\n",
        "    delta_v0 = delta_v[0:3].flatten()\n",
        "    delta_v1 = delta_v[3:6].flatten()\n",
        "\n",
        "    velocities[0] = velocities[0] + delta_v0\n",
        "    velocities[1] = velocities[1] + delta_v1\n",
        "\n",
        "    positions[0] = positions[0] + velocities[0] * dt\n",
        "    positions[1] = positions[1] + velocities[1] * dt\n",
        "\n",
        "history = []\n",
        "\n",
        "for i in range(timesteps):\n",
        "    forces = [np.zeros(3), np.zeros(3)]\n",
        "    force_derivatives = [[np.zeros((3,3)), np.zeros((3,3))], \n",
        "                        [np.zeros((3,3)), np.zeros((3,3))]]\n",
        "    calculate_forces()\n",
        "    integrate_implicit()\n",
        "    # integrate_explicit()\n",
        "    history.append(positions.copy())"
      ],
      "execution_count": null,
      "outputs": []
    },
    {
      "cell_type": "code",
      "metadata": {
        "id": "ooFo7AJOly1e"
      },
      "source": [
        "\n",
        "def animate_spring(history, dt, fps=50):\n",
        "    fig = plt.figure()\n",
        "    ax = fig.add_subplot(111, aspect='equal', autoscale_on=False,\n",
        "                        xlim=(-2, 2), ylim=(-2, 2))\n",
        "\n",
        "    plt.close()\n",
        "    ax.grid()\n",
        "    ax.set_xlabel('x')\n",
        "    ax.set_ylabel('z')\n",
        "    line, = ax.plot([], [], 'o-', lw=2)\n",
        "    time_text = ax.text(0.02, 0.95, '', transform=ax.transAxes)\n",
        "\n",
        "    fps_simulation = 1 / dt\n",
        "    skip = np.floor(fps_simulation / fps).astype(np.int32)\n",
        "    fps_adjusted = fps_simulation / skip\n",
        "    print('fps was adjusted to: ', fps_adjusted)\n",
        "\n",
        "\n",
        "    def init():\n",
        "        line.set_data([], [])\n",
        "        time_text.set_text('')\n",
        "        return (line,)\n",
        "\n",
        "    def animate(i):\n",
        "        p = history[i * skip]\n",
        "        x, y, z = np.transpose(p)\n",
        "        line.set_data(x, z)\n",
        "        time_text.set_text('time = %.1f' % (i*dt*skip))\n",
        "        return line, time_text\n",
        "    \n",
        "\n",
        "    anim = animation.FuncAnimation(fig, animate, init_func=init,\n",
        "                                frames=len(history)//skip, interval=1000*dt*skip, blit=True)\n",
        "\n",
        "    return anim\n",
        "\n",
        "animate_spring(history, dt)"
      ],
      "execution_count": null,
      "outputs": []
    },
    {
      "cell_type": "code",
      "metadata": {
        "id": "OpJyWBULpEHg"
      },
      "source": [
        ""
      ],
      "execution_count": 6,
      "outputs": []
    }
  ]
}