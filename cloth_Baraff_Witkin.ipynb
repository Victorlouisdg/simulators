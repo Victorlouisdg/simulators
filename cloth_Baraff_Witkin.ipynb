{
  "nbformat": 4,
  "nbformat_minor": 0,
  "metadata": {
    "colab": {
      "name": "cloth Baraff-Witkin.ipynb",
      "provenance": [],
      "collapsed_sections": [],
      "authorship_tag": "ABX9TyPH59bgMqMw9E20FYBWmnbu",
      "include_colab_link": true
    },
    "kernelspec": {
      "name": "python3",
      "display_name": "Python 3"
    },
    "language_info": {
      "name": "python"
    }
  },
  "cells": [
    {
      "cell_type": "markdown",
      "metadata": {
        "id": "view-in-github",
        "colab_type": "text"
      },
      "source": [
        "<a href=\"https://colab.research.google.com/github/Victorlouisdg/simulators/blob/main/cloth_Baraff_Witkin.ipynb\" target=\"_parent\"><img src=\"https://colab.research.google.com/assets/colab-badge.svg\" alt=\"Open In Colab\"/></a>"
      ]
    },
    {
      "cell_type": "code",
      "metadata": {
        "id": "4toDyksVOx6V"
      },
      "source": [
        "!pip install meshzoo"
      ],
      "execution_count": null,
      "outputs": []
    },
    {
      "cell_type": "code",
      "metadata": {
        "id": "gujWGp1kOHiL"
      },
      "source": [
        "from collections import namedtuple\n",
        "import numpy as np\n",
        "import meshzoo\n",
        "import matplotlib\n",
        "import matplotlib.pyplot as plt\n",
        "from matplotlib import animation, rc\n",
        "from IPython.display import HTML\n",
        "matplotlib.rc('animation', html='jshtml')"
      ],
      "execution_count": null,
      "outputs": []
    },
    {
      "cell_type": "code",
      "metadata": {
        "id": "dKnsk8l3OgB_"
      },
      "source": [
        "vertex_positions_uv, triangle_indices = meshzoo.rectangle_tri(\n",
        "    (0.0, 0.0),\n",
        "    (1.0, 1.0),\n",
        "    n=3,\n",
        "    variant=\"zigzag\",  # or \"up\", \"down\", \"center\"\n",
        ")\n",
        "\n",
        "print(vertex_positions_uv.shape)\n",
        "print(triangle_indices.shape)"
      ],
      "execution_count": null,
      "outputs": []
    },
    {
      "cell_type": "code",
      "metadata": {
        "id": "tZe5N705RUoN"
      },
      "source": [
        "x, y = np.transpose(vertex_positions_uv)\n",
        "z = np.zeros_like(x)"
      ],
      "execution_count": null,
      "outputs": []
    },
    {
      "cell_type": "code",
      "metadata": {
        "id": "bvsI9SdNPre7"
      },
      "source": [
        "fig = plt.figure(figsize=(8, 6), dpi=100)\n",
        "ax = fig.add_subplot(111, projection='3d')\n",
        "\n",
        "ax.plot_trisurf(x, y, z, triangles=triangle_indices, color='deepskyblue')\n",
        "ax.scatter(x, y, z, c='deeppink', s=20, depthshade=False)\n",
        "for i, (xi, yi, zi) in enumerate(zip(x, y, z)):\n",
        "    ax.text(xi, yi, zi, str(i), fontsize='large', color='black', zorder=10)\n",
        "\n",
        "ax.set_xlabel('x')\n",
        "ax.set_ylabel('y')\n",
        "ax.set_zlabel('z');"
      ],
      "execution_count": null,
      "outputs": []
    },
    {
      "cell_type": "code",
      "metadata": {
        "id": "oOwcvhEdD50k"
      },
      "source": [
        "def triangle_area(triangle_vertices):\n",
        "    v0, v1, v2 = triangle_vertices\n",
        "    return np.linalg.norm(np.cross(v1 - v0, v2 - v0)) / 2.0\n",
        "\n",
        "def calculate_area(triangles_indices, vertex_positions):\n",
        "    area = 0.0\n",
        "    for triangle in triangle_indices:\n",
        "        triangle_vertices = vertex_positions[triangle]\n",
        "        area += triangle_area(triangle_vertices)\n",
        "    return area\n",
        "\n",
        "def calculate_vertex_masses(vertex_positions_uv, triangle_indices, density=0.2):\n",
        "    vertex_masses = np.zeros(vertex_positions_uv.shape[0])\n",
        "\n",
        "    for i,j,k in triangle_indices:\n",
        "        area = triangle_area(vertex_positions_uv[[i, j, k]])\n",
        "        triangle_mass = density * area\n",
        "        vertex_masses[i] += 1/3 * triangle_mass \n",
        "        vertex_masses[j] += 1/3 * triangle_mass \n",
        "        vertex_masses[k] += 1/3 * triangle_mass\n",
        "\n",
        "    return vertex_masses\n",
        "\n",
        "def calculate_uv_stuff(triangle_vertex_positions_uv):\n",
        "    uv_i, uv_j, uv_k = triangle_vertex_positions_uv\n",
        "    ui, vi = uv_i\n",
        "    uj, vj = uv_j\n",
        "    uk, vk = uv_k\n",
        "\n",
        "    delta_u1 = uj - ui\n",
        "    delta_u2 = uk - ui\n",
        "    delta_v1 = vj - vi\n",
        "    delta_v2 = vk - vi\n",
        "\n",
        "    delta_u_matrix = np.array([(delta_u1, delta_u2),\n",
        "                               (delta_v1, delta_v2)])\n",
        "    \n",
        "    inverted_delta_u_matrix = np.linalg.inv(delta_u_matrix)\n",
        "\n",
        "    dw_denominator = (delta_u1 * delta_v2 - delta_u2 * delta_v1)\n",
        "\n",
        "    Xi_factor = (delta_v1 - delta_v2) / dw_denominator\n",
        "    Xj_factor = delta_v2 / dw_denominator\n",
        "    Xk_factor = -delta_v1 / dw_denominator\n",
        "\n",
        "    return np.array([Xi_factor, Xj_factor, Xk_factor]), inverted_delta_u_matrix\n",
        "\n",
        "def precompute_triangles_uv_stuff(vertex_positions_uv, triangle_indices):\n",
        "    triangle_X_factors = []\n",
        "    inverted_delta_u_matrices = []\n",
        "\n",
        "    for triangle in triangle_indices:\n",
        "        X_factors, inverted_delta_u_matrix = calculate_uv_stuff(vertex_positions_uv[triangle])\n",
        "        triangle_X_factors.append(X_factors)\n",
        "        inverted_delta_u_matrices.append(inverted_delta_u_matrix)\n",
        "    \n",
        "    return np.array(triangle_X_factors), np.array(inverted_delta_u_matrices)"
      ],
      "execution_count": null,
      "outputs": []
    },
    {
      "cell_type": "code",
      "metadata": {
        "id": "B3QRSlOgBCoX"
      },
      "source": [
        "# Required attributes for a Baraff-Witkin style cloth simulator\n",
        "class ClothSimulationMesh:\n",
        "    # TODO rewrite cloth class with __init__():\n",
        "\n",
        "    # State \n",
        "    vertex_positions = None              # float3\n",
        "    vertex_velocities = None             # float3\n",
        "    # Configuration / Parameters\n",
        "    triangle_indices = None\n",
        "    vertex_positions_uv = None           # float2\n",
        "    vertex_masses = None                 # float\n",
        "    triangle_stretch_stiffness_u = None  # float\n",
        "    triangle_stretch_stiffness_v = None  # float\n",
        "    pinned_vertices = None               # boolean\n",
        "    # could also be saved as a sparse attribute\n",
        "\n",
        "    # Simulation (intermediate/cache) storage\n",
        "    vertex_forces = None\n",
        "    triangle_areas_uv = None\n",
        "    triangle_X_factors = None\n",
        "    triangle_inverted_delta_u_matrices = None    # (2, 2) matrix on triangle domain \n",
        "\n",
        "\n",
        "n_vertices = vertex_positions_uv.shape[0]\n",
        "n_triangles = triangle_indices.shape[0]\n",
        "\n",
        "cloth = ClothSimulationMesh()\n",
        "cloth.vertex_positions = np.transpose([x, y, z])\n",
        "cloth.vertex_velocities = np.zeros_like(cloth.vertex_positions)\n",
        "\n",
        "cloth.triangle_indices = triangle_indices\n",
        "cloth.vertex_positions_uv = vertex_positions_uv\n",
        "cloth.vertex_masses = calculate_vertex_masses(vertex_positions_uv, triangle_indices)\n",
        "cloth.triangle_stretch_stiffness_u = np.ones(n_triangles)\n",
        "cloth.triangle_stretch_stiffness_v = np.ones(n_triangles)\n",
        "cloth.pinned_vertices = np.zeros(n_vertices)\n",
        "\n",
        "cloth.vertex_forces = np.zeros_like(cloth.vertex_velocities)\n",
        "cloth.triangle_areas_uv = np.array([triangle_area(vertex_positions_uv[tri]) for tri in triangle_indices])\n",
        "\n",
        "triangle_X_factors, inverted_delta_u_matrices = precompute_triangles_uv_stuff(vertex_positions_uv, triangle_indices)\n",
        "cloth.triangle_X_factors = triangle_X_factors\n",
        "cloth.triangle_inverted_delta_u_matrices = inverted_delta_u_matrices"
      ],
      "execution_count": null,
      "outputs": []
    },
    {
      "cell_type": "code",
      "metadata": {
        "id": "USaPSGNM0Cig"
      },
      "source": [
        "for triangle_index, triangle_vertex_indicies in enumerate(triangle_indices):\n",
        "    # given current vertex positions\n",
        "    # find current stretch in u and v directions (w_u and w_v)\n",
        "    # using the known rest state uv positions\n",
        "    \n",
        "    i, j, k = triangle_vertex_indicies\n",
        "\n",
        "    # to avoid confusio between the x coordinate and the X position vector,\n",
        "    # I'm going to capitalize the X when I mean the vector \n",
        "    # (position.x, position.y, position.z)\n",
        "    # in the paper this is x printed in bold\n",
        "    Xi, Xj, Xk = cloth.vertex_positions[triangle_vertex_indicies]\n",
        "\n",
        "    area_uv = cloth.triangle_areas_uv[triangle_index]\n",
        "\n",
        "    delta_X1 = Xj - Xi\n",
        "    delta_X2 = Xk - Xi\n",
        "\n",
        "    uv_i, uv_j, uv_k = vertex_positions_uv[triangle_vertex_indicies]\n",
        "    ui, vi = uv_i\n",
        "    uj, vj = uv_j\n",
        "    uk, vk = uv_k\n",
        "\n",
        "    delta_u1 = uj - ui\n",
        "    delta_u2 = uk - ui\n",
        "    delta_v1 = vj - vi\n",
        "    delta_v2 = vk - vi\n",
        "\n",
        "    delta_u_matrix = np.array([(delta_u1, delta_u2),\n",
        "                               (delta_v1, delta_v2)])\n",
        "        \n",
        "    delta_X_matrix = np.column_stack((delta_X1, delta_X2))\n",
        "\n",
        "    # Equation (9) in Baraff-Witkin.\n",
        "    w_uv = delta_X_matrix @ np.linalg.inv(delta_u_matrix)\n",
        "    wu, wv = np.hsplit(w_uv, 2)     # wu = \"world u\"\n",
        "    norm_wu = np.linalg.norm(wu)\n",
        "    norm_wv = np.linalg.norm(wv)\n",
        "\n",
        "    # with the above we can easily find C(X), now we need to go further an find\n",
        "    # dC(X)/dX\n",
        "    # on a per-triangle basis, this is a vector with 9 elements.\n",
        "    # the first 3 elements correspond to the first vertex i, the next 3 to j and the last 3 to k\n",
        "    # so dC(Xi)/dXi is a 3 component vector, however, because the (x,y,z) \n",
        "    # components are treatly identically, we only beed to find the expression for\n",
        "    # one of them and then we can substitute x for y or z to get the others. \n",
        "\n",
        "    # find dCu(Xi.x)/d(Xi.x)\n",
        "\n",
        "    # Equation (10) in Baraff-Witkin.\n",
        "    Cu = area_uv * (norm_wu - 1.0)\n",
        "\n",
        "    dw_denominator = (delta_u1 * delta_v2 - delta_u2 * delta_v1)\n",
        "\n",
        "    Xi_factor = (delta_v1 - delta_v2) / dw_denominator\n",
        "    Xj_factor = delta_v2 / dw_denominator\n",
        "    Xk_factor = -delta_v1 / dw_denominator\n",
        "\n",
        "    wu_normalized = wu / norm_wu\n",
        "\n",
        "    # It would have been nice if these derivates where give in the original paper,\n",
        "    # sadly they weren't so I had to derive them myself by hand. I also found\n",
        "    # this blog online with the derivation, however I was confused a bit about the \n",
        "    # notation at first, so I'll make my own blog post. \n",
        "    # blog: http://davidpritchard.org/freecloth/docs/report-single/\n",
        "\n",
        "    dCu_Xi = area_uv * Xi_factor * wu_normalized  # it would be slightly more effecient to multiply all the scalars first and only then to the vector multiply\n",
        "    dCu_Xj = area_uv * Xj_factor * wu_normalized\n",
        "    dCu_Xk = area_uv * Xk_factor * wu_normalized\n",
        "\n",
        "    u_stiffness = v_stiffness = 1.0\n",
        "    # Equation (7) in Baraff-Witkin.\n",
        "    force_i = u_stiffness * Cu * dCu_Xi\n",
        "    force_j = u_stiffness * Cu * dCu_Xi\n",
        "    force_k = u_stiffness * Cu * dCu_Xi\n",
        "\n",
        "    cloth.vertex_forces[i] += force_i.reshape((3,)) # Reshape from (3, 1) to (3,)\n",
        "    cloth.vertex_forces[j] += force_j.reshape((3,))\n",
        "    cloth.vertex_forces[k] += force_k.reshape((3,))\n",
        "\n",
        "    # todo think about a lockfree way to fill force vector\n",
        "    # force vector has 1 element per vertex, but most vertices are contained in multiple triangles\n",
        "    # so if we compute the triangle forces in parallel, we need a lock when writing to the vertex position\n",
        "\n",
        "    # maybe: one pass over triangles -> local storage per triangle\n",
        "\n",
        "    # solution parallel pass over triangles -> store calculated forces locally\n",
        "    # then sequential pass over triangles that copies triangle forces into forces vector\n",
        "\n",
        "    # important abstraction later: function that fill in forces vector\n",
        "    # almost all sims work with forces applied to particles\n",
        "    # in BW98 via triangle based stretch condition (in Blender if mesh is passed with quads, just use quad face attribute on looptris)\n",
        "    # in MSD sims via edge based hooke's law\n",
        "\n",
        "    # also: function that fills force jacobians matrix"
      ],
      "execution_count": null,
      "outputs": []
    },
    {
      "cell_type": "code",
      "metadata": {
        "id": "xC7_8QhXqzWo"
      },
      "source": [
        "# def simulate(cloth, timesteps, dt):\n",
        "#     history = [cloth.vertex_positions]\n",
        "#     for _ in range(timesteps):\n",
        "#         step(mesh, dt)\n",
        "#         history.append(cloth.vertex_positions)\n",
        "\n",
        "#     return history\n",
        "\n",
        "# history = simulate(cloth, timesteps, dt)"
      ],
      "execution_count": null,
      "outputs": []
    },
    {
      "cell_type": "code",
      "metadata": {
        "id": "I89beH5Y4WYh"
      },
      "source": [
        ""
      ],
      "execution_count": null,
      "outputs": []
    }
  ]
}