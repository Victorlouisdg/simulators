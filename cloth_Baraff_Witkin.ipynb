{
  "nbformat": 4,
  "nbformat_minor": 0,
  "metadata": {
    "colab": {
      "name": "cloth_Baraff_Witkin.ipynb",
      "provenance": [],
      "collapsed_sections": [],
      "authorship_tag": "ABX9TyMKhVFIr6iiCJ3Lzh9lr8Cl",
      "include_colab_link": true
    },
    "kernelspec": {
      "name": "python3",
      "display_name": "Python 3"
    },
    "language_info": {
      "name": "python"
    }
  },
  "cells": [
    {
      "cell_type": "markdown",
      "metadata": {
        "id": "view-in-github",
        "colab_type": "text"
      },
      "source": [
        "<a href=\"https://colab.research.google.com/github/Victorlouisdg/simulators/blob/main/cloth_Baraff_Witkin.ipynb\" target=\"_parent\"><img src=\"https://colab.research.google.com/assets/colab-badge.svg\" alt=\"Open In Colab\"/></a>"
      ]
    },
    {
      "cell_type": "code",
      "metadata": {
        "id": "4toDyksVOx6V"
      },
      "source": [
        "!pip install meshzoo"
      ],
      "execution_count": null,
      "outputs": []
    },
    {
      "cell_type": "code",
      "metadata": {
        "id": "gujWGp1kOHiL"
      },
      "source": [
        "from collections import namedtuple\n",
        "import numpy as np\n",
        "import meshzoo\n",
        "import matplotlib\n",
        "import matplotlib.pyplot as plt\n",
        "from matplotlib import animation, rc\n",
        "from IPython.display import HTML\n",
        "matplotlib.rc('animation', html='jshtml')"
      ],
      "execution_count": null,
      "outputs": []
    },
    {
      "cell_type": "code",
      "metadata": {
        "id": "dKnsk8l3OgB_"
      },
      "source": [
        "vertex_positions_uv, triangle_indices = meshzoo.rectangle_tri(\n",
        "    (0.0, 0.0),\n",
        "    (1.0, 1.0),\n",
        "    n=3,\n",
        "    variant=\"zigzag\",  # or \"up\", \"down\", \"center\"\n",
        ")\n",
        "\n",
        "print(vertex_positions_uv.shape)\n",
        "print(triangle_indices.shape)"
      ],
      "execution_count": null,
      "outputs": []
    },
    {
      "cell_type": "code",
      "metadata": {
        "id": "tZe5N705RUoN"
      },
      "source": [
        "n_vertices = vertex_positions_uv.shape[0]\n",
        "vertex_positions_z = np.zeros(n_vertices)\n",
        "vertex_positions = np.column_stack([vertex_positions_uv, vertex_positions_z])"
      ],
      "execution_count": null,
      "outputs": []
    },
    {
      "cell_type": "code",
      "metadata": {
        "id": "bvsI9SdNPre7"
      },
      "source": [
        "def plot_cloth(ax, vertex_positions, triangle_indices):\n",
        "    x, y, z = vertex_positions.transpose()\n",
        "    ax.clear()  # necessary for the animations\n",
        "    ax.plot_trisurf(x, y, z, triangles=triangle_indices, color='deepskyblue')\n",
        "    ax.scatter(x, y, z, c='deeppink', s=20, depthshade=False)\n",
        "    for i, (xi, yi, zi) in enumerate(zip(x, y, z)):\n",
        "        ax.text(xi, yi, zi, str(i), fontsize='large', color='black', zorder=10)\n",
        "    ax.set_xlabel('x')\n",
        "    ax.set_ylabel('y')\n",
        "    ax.set_zlabel('z')\n",
        "    ax.set_zlim([-2, 0.25])\n",
        "\n",
        "fig = plt.figure(figsize=(8, 6), dpi=100)\n",
        "ax = fig.add_subplot(111, projection='3d')\n",
        "plot_cloth(ax, vertex_positions, triangle_indices)"
      ],
      "execution_count": null,
      "outputs": []
    },
    {
      "cell_type": "code",
      "metadata": {
        "id": "oOwcvhEdD50k"
      },
      "source": [
        "def triangle_area(triangle_vertices):\n",
        "    v0, v1, v2 = triangle_vertices\n",
        "    return np.linalg.norm(np.cross(v1 - v0, v2 - v0)) / 2.0\n",
        "\n",
        "def calculate_area(triangles_indices, vertex_positions):\n",
        "    area = 0.0\n",
        "    for triangle in triangle_indices:\n",
        "        triangle_vertices = vertex_positions[triangle]\n",
        "        area += triangle_area(triangle_vertices)\n",
        "    return area\n",
        "\n",
        "def calculate_vertex_masses(vertex_positions_uv, triangle_indices, density=0.2):\n",
        "    vertex_masses = np.zeros(vertex_positions_uv.shape[0])\n",
        "\n",
        "    for i,j,k in triangle_indices:\n",
        "        area = triangle_area(vertex_positions_uv[[i, j, k]])\n",
        "        triangle_mass = density * area\n",
        "        vertex_masses[i] += 1/3 * triangle_mass \n",
        "        vertex_masses[j] += 1/3 * triangle_mass \n",
        "        vertex_masses[k] += 1/3 * triangle_mass\n",
        "\n",
        "    return vertex_masses\n",
        "\n",
        "def calculate_uv_stuff(triangle_vertex_positions_uv):\n",
        "    uv_i, uv_j, uv_k = triangle_vertex_positions_uv\n",
        "    ui, vi = uv_i\n",
        "    uj, vj = uv_j\n",
        "    uk, vk = uv_k\n",
        "\n",
        "    delta_u1 = uj - ui\n",
        "    delta_u2 = uk - ui\n",
        "    delta_v1 = vj - vi\n",
        "    delta_v2 = vk - vi\n",
        "\n",
        "    delta_u_matrix = np.array([(delta_u1, delta_u2),\n",
        "                               (delta_v1, delta_v2)])\n",
        "    \n",
        "    inverted_delta_u_matrix = np.linalg.inv(delta_u_matrix)\n",
        "\n",
        "    dw_denominator = (delta_u1 * delta_v2 - delta_u2 * delta_v1)\n",
        "\n",
        "    Xi_factor = (delta_v1 - delta_v2) / dw_denominator\n",
        "    Xj_factor = delta_v2 / dw_denominator\n",
        "    Xk_factor = -delta_v1 / dw_denominator\n",
        "\n",
        "    return np.array([Xi_factor, Xj_factor, Xk_factor]), inverted_delta_u_matrix\n",
        "\n",
        "def precompute_triangles_uv_stuff(vertex_positions_uv, triangle_indices):\n",
        "    triangle_X_factors = []\n",
        "    inverted_delta_u_matrices = []\n",
        "\n",
        "    for triangle in triangle_indices:\n",
        "        X_factors, inverted_delta_u_matrix = calculate_uv_stuff(vertex_positions_uv[triangle])\n",
        "        triangle_X_factors.append(X_factors)\n",
        "        inverted_delta_u_matrices.append(inverted_delta_u_matrix)\n",
        "    \n",
        "    return np.array(triangle_X_factors), np.array(inverted_delta_u_matrices)"
      ],
      "execution_count": null,
      "outputs": []
    },
    {
      "cell_type": "code",
      "metadata": {
        "id": "B3QRSlOgBCoX"
      },
      "source": [
        "# Required attributes for a Baraff-Witkin style cloth simulator\n",
        "class ClothSimulationMesh:\n",
        "    def __init__(self, vertex_positions, vertex_positions_uv, triangle_indices):\n",
        "        self.n_vertices = vertex_positions_uv.shape[0]\n",
        "        self.n_triangles = triangle_indices.shape[0]\n",
        "\n",
        "        # State \n",
        "        self.vertex_positions = vertex_positions.copy()\n",
        "        self.vertex_velocities = np.zeros_like(vertex_positions)  \n",
        "\n",
        "        # Configuration / Parameters\n",
        "        self.triangle_indices = triangle_indices\n",
        "        self.vertex_positions_uv = vertex_positions_uv\n",
        "        self.vertex_masses = calculate_vertex_masses(vertex_positions_uv, triangle_indices)  \n",
        "        self.triangle_stretch_stiffness_u = np.ones(self.n_triangles) \n",
        "        self.triangle_stretch_stiffness_v = np.ones(self.n_triangles)\n",
        "        self.pinned_vertices = np.zeros(self.n_vertices) # could also be saved as a sparse attribute\n",
        "\n",
        "        # Simulation (intermediate/cache) storage\n",
        "        self.vertex_forces = np.zeros_like(self.vertex_velocities)\n",
        "        self.precompute_uv_stuff()\n",
        "\n",
        "    def precompute_uv_stuff(self):\n",
        "        self.triangle_areas_uv = np.array([triangle_area(vertex_positions_uv[tri]) for tri in triangle_indices])\n",
        "        triangle_X_factors, inverted_delta_u_matrices = precompute_triangles_uv_stuff(vertex_positions_uv, triangle_indices)\n",
        "        self.triangle_X_factors = triangle_X_factors\n",
        "        self.triangle_inverted_delta_u_matrices = inverted_delta_u_matrices   # (2, 2) matrix on triangle domain \n",
        "\n",
        "    def reset_vertex_forces(self):\n",
        "        self.vertex_forces.fill(0)"
      ],
      "execution_count": null,
      "outputs": []
    },
    {
      "cell_type": "code",
      "metadata": {
        "id": "X3lF-D4SAs2r"
      },
      "source": [
        "def calculate_forces(cloth):\n",
        "    for triangle_index, triangle in enumerate(cloth.triangle_indices):\n",
        "        i, j, k = triangle\n",
        "\n",
        "        Xi, Xj, Xk = cloth.vertex_positions[triangle]\n",
        "\n",
        "        delta_X1 = Xj - Xi\n",
        "        delta_X2 = Xk - Xi\n",
        "\n",
        "        inverted_delta_u_matrix = cloth.triangle_inverted_delta_u_matrices[triangle_index]\n",
        "            \n",
        "        delta_X_matrix = np.column_stack((delta_X1, delta_X2))\n",
        "\n",
        "        # Equation (9) in Baraff-Witkin.\n",
        "        w_uv = delta_X_matrix @ inverted_delta_u_matrix\n",
        "        wu, wv = np.hsplit(w_uv, 2)     # wu = \"world u\"\n",
        "        norm_wu = np.linalg.norm(wu)\n",
        "        norm_wv = np.linalg.norm(wv)\n",
        "\n",
        "        area_uv = cloth.triangle_areas_uv[triangle_index]\n",
        "\n",
        "        Cu = area_uv * (norm_wu - 1.0)\n",
        "\n",
        "        Xi_factor, Xj_factor, Xk_factor = cloth.triangle_X_factors[triangle_index]\n",
        "\n",
        "        wu_normalized = wu / norm_wu\n",
        "\n",
        "        dCu_Xi = area_uv * Xi_factor * wu_normalized  # it would be slightly more effecient to multiply all the scalars first and only then to the vector multiply\n",
        "        dCu_Xj = area_uv * Xj_factor * wu_normalized\n",
        "        dCu_Xk = area_uv * Xk_factor * wu_normalized\n",
        "\n",
        "        u_stiffness = cloth.triangle_stretch_stiffness_u[triangle_index]\n",
        "        v_stiffness = cloth.triangle_stretch_stiffness_v[triangle_index]\n",
        "\n",
        "        # Equation (7) in Baraff-Witkin.\n",
        "        force_i = u_stiffness * Cu * dCu_Xi\n",
        "        force_j = u_stiffness * Cu * dCu_Xj\n",
        "        force_k = u_stiffness * Cu * dCu_Xk\n",
        "\n",
        "        cloth.vertex_forces[i] += force_i.reshape((3,)) # Reshape from (3, 1) to (3,)\n",
        "        cloth.vertex_forces[j] += force_j.reshape((3,))\n",
        "        cloth.vertex_forces[k] += force_k.reshape((3,))\n",
        "\n",
        "# calculate_forces(cloth)"
      ],
      "execution_count": null,
      "outputs": []
    },
    {
      "cell_type": "code",
      "metadata": {
        "id": "USaPSGNM0Cig"
      },
      "source": [
        "# It would have been nice if these derivates where give in the original paper,\n",
        "# sadly they weren't so I had to derive them myself by hand. I also found\n",
        "# this blog online with the derivation, however I was confused a bit about the \n",
        "# notation at first, so I'll make my own blog post. \n",
        "# blog: http://davidpritchard.org/freecloth/docs/report-single/\n",
        "\n",
        "# todo think about a lockfree way to fill force vector\n",
        "# force vector has 1 element per vertex, but most vertices are contained in multiple triangles\n",
        "# so if we compute the triangle forces in parallel, we need a lock when writing to the vertex position\n",
        "\n",
        "# maybe: one pass over triangles -> local storage per triangle\n",
        "\n",
        "# solution parallel pass over triangles -> store calculated forces locally\n",
        "# then sequential pass over triangles that copies triangle forces into forces vector\n",
        "\n",
        "# important abstraction later: function that fill in forces vector\n",
        "# almost all sims work with forces applied to particles\n",
        "# in BW98 via triangle based stretch condition (in Blender if mesh is passed with quads, just use quad face attribute on looptris)\n",
        "# in MSD sims via edge based hooke's law\n",
        "\n",
        "# also: function that fills force jacobians matrix"
      ],
      "execution_count": null,
      "outputs": []
    },
    {
      "cell_type": "code",
      "metadata": {
        "id": "ALts4lY8Iksm"
      },
      "source": [
        "def step(cloth, dt):\n",
        "    # cloth.reset_vertex_forces()\n",
        "    # cloth.vertex_forces += calculate_forces(cloth)\n",
        "\n",
        "    vertex_accelerations = np.zeros_like(cloth.vertex_velocities)\n",
        "    vertex_accelerations[:, -1] = -9.81 # acceleration due to gravity\n",
        "\n",
        "    # cloth.vertex_accelerations += cloth.vertex_forces / cloth.vertex_masses\n",
        "\n",
        "    cloth.vertex_velocities += vertex_accelerations * dt\n",
        "    # print(cloth.vertex_velocities)\n",
        "\n",
        "    cloth.vertex_positions += cloth.vertex_velocities * dt"
      ],
      "execution_count": null,
      "outputs": []
    },
    {
      "cell_type": "code",
      "metadata": {
        "id": "xC7_8QhXqzWo"
      },
      "source": [
        "timesteps = 100         \n",
        "dt = 0.01\n",
        "\n",
        "cloth = ClothSimulationMesh(vertex_positions, vertex_positions_uv, triangle_indices)\n",
        "\n",
        "def simulate(cloth, timesteps, dt):\n",
        "    history = [cloth.vertex_positions.copy()]\n",
        "    for _ in range(timesteps):\n",
        "        step(cloth, dt)\n",
        "        history.append(cloth.vertex_positions.copy())\n",
        "\n",
        "    return history\n",
        "\n",
        "history = simulate(cloth, timesteps, dt)"
      ],
      "execution_count": null,
      "outputs": []
    },
    {
      "cell_type": "code",
      "metadata": {
        "id": "yj3XYtNjUffh"
      },
      "source": [
        "history[0]"
      ],
      "execution_count": null,
      "outputs": []
    },
    {
      "cell_type": "code",
      "metadata": {
        "id": "I89beH5Y4WYh"
      },
      "source": [
        "def animate_cloth(history, dt, fps=50):\n",
        "    fig = plt.figure(figsize=(5, 5), dpi=100)\n",
        "    fig.subplots_adjust(0,0,1,1,0,0) # less padding\n",
        "    ax = fig.add_subplot(111, projection='3d')\n",
        "    plt.close()  # prevents duplicate output \n",
        "\n",
        "    fps_simulation = 1 / dt\n",
        "    skip = np.floor(fps_simulation / fps).astype(np.int32)\n",
        "    fps_adjusted = fps_simulation / skip\n",
        "    print('fps was adjusted to:', fps_adjusted)\n",
        "\n",
        "    def animate(i):\n",
        "        j = min(i * skip, len(history) - 1)\n",
        "        plot_cloth(ax, history[j], triangle_indices)\n",
        "        ax.text2D(0.1, 0.9, 't = {:.3f}s'.format(j * dt), transform=ax.transAxes)\n",
        "\n",
        "\n",
        "    n_frames = (len(history) - 1) // skip + 1\n",
        "    interval = 1000*dt*skip\n",
        "    anim = animation.FuncAnimation(fig, animate, frames=n_frames, interval=interval)\n",
        "    return anim\n",
        "\n",
        "animate_cloth(history, dt)"
      ],
      "execution_count": null,
      "outputs": []
    },
    {
      "cell_type": "code",
      "metadata": {
        "id": "DPztwgL_OS_0"
      },
      "source": [
        ""
      ],
      "execution_count": null,
      "outputs": []
    }
  ]
}