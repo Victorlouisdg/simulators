{
  "nbformat": 4,
  "nbformat_minor": 0,
  "metadata": {
    "colab": {
      "name": "Cloth Baraff-Witkin.ipynb",
      "provenance": [],
      "authorship_tag": "ABX9TyO/NF5JdTQnk7Q2Oix44qNb",
      "include_colab_link": true
    },
    "kernelspec": {
      "name": "python3",
      "display_name": "Python 3"
    },
    "language_info": {
      "name": "python"
    }
  },
  "cells": [
    {
      "cell_type": "markdown",
      "metadata": {
        "id": "view-in-github",
        "colab_type": "text"
      },
      "source": [
        "<a href=\"https://colab.research.google.com/github/Victorlouisdg/simulators/blob/main/cloth_Baraff_Witkin.ipynb\" target=\"_parent\"><img src=\"https://colab.research.google.com/assets/colab-badge.svg\" alt=\"Open In Colab\"/></a>"
      ]
    },
    {
      "cell_type": "code",
      "metadata": {
        "id": "4toDyksVOx6V"
      },
      "source": [
        "!pip install meshzoo"
      ],
      "execution_count": null,
      "outputs": []
    },
    {
      "cell_type": "code",
      "metadata": {
        "id": "gujWGp1kOHiL"
      },
      "source": [
        "import numpy as np\n",
        "import meshzoo\n",
        "import matplotlib\n",
        "import matplotlib.pyplot as plt\n",
        "from matplotlib import animation, rc\n",
        "from IPython.display import HTML\n",
        "matplotlib.rc('animation', html='jshtml')"
      ],
      "execution_count": null,
      "outputs": []
    },
    {
      "cell_type": "code",
      "metadata": {
        "id": "dKnsk8l3OgB_"
      },
      "source": [
        "points, cells = meshzoo.rectangle_tri(\n",
        "    (0.0, 0.0),\n",
        "    (1.0, 1.0),\n",
        "    n=11,  # or (11, 11)\n",
        "    variant=\"zigzag\",  # or \"up\", \"down\", \"center\"\n",
        ")"
      ],
      "execution_count": null,
      "outputs": []
    },
    {
      "cell_type": "code",
      "metadata": {
        "id": "tZe5N705RUoN"
      },
      "source": [
        "x, z = np.transpose(points)\n",
        "y = np.zeros_like(x)"
      ],
      "execution_count": null,
      "outputs": []
    },
    {
      "cell_type": "code",
      "metadata": {
        "id": "bvsI9SdNPre7"
      },
      "source": [
        "fig = plt.figure(figsize=(8, 6), dpi=100)\n",
        "ax = fig.add_subplot(111, projection='3d')\n",
        "ax.plot_trisurf(x, y, z, triangles=cells)\n",
        "ax.scatter(x, y, z, c='red', s=10)\n",
        "ax.set_xlabel('x')\n",
        "ax.set_ylabel('y')\n",
        "ax.set_zlabel('z');"
      ],
      "execution_count": null,
      "outputs": []
    },
    {
      "cell_type": "code",
      "metadata": {
        "id": "hqnHP5y4RGCL"
      },
      "source": [
        ""
      ],
      "execution_count": null,
      "outputs": []
    }
  ]
}