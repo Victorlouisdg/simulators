{
  "nbformat": 4,
  "nbformat_minor": 0,
  "metadata": {
    "colab": {
      "name": "fluid_2d.ipynb",
      "provenance": [],
      "collapsed_sections": [],
      "authorship_tag": "ABX9TyO6Wk19Ya1W9tXxdmlugYY5",
      "include_colab_link": true
    },
    "kernelspec": {
      "name": "python3",
      "display_name": "Python 3"
    }
  },
  "cells": [
    {
      "cell_type": "markdown",
      "metadata": {
        "id": "view-in-github",
        "colab_type": "text"
      },
      "source": [
        "<a href=\"https://colab.research.google.com/github/Victorlouisdg/simulators/blob/main/fluid_2d.ipynb\" target=\"_parent\"><img src=\"https://colab.research.google.com/assets/colab-badge.svg\" alt=\"Open In Colab\"/></a>"
      ]
    },
    {
      "cell_type": "code",
      "metadata": {
        "id": "pBjj_qZESlqx"
      },
      "source": [
        "import numpy as np\n",
        "import matplotlib\n",
        "import matplotlib.pyplot as plt\n",
        "from matplotlib import animation, rc\n",
        "from IPython.display import HTML\n",
        "matplotlib.rc('animation', html='jshtml')"
      ],
      "execution_count": null,
      "outputs": []
    },
    {
      "cell_type": "code",
      "metadata": {
        "id": "F0HJBAvjSpJz"
      },
      "source": [
        "n = amount_of_cells = 32\n",
        "velocity_grid = np.zeros((n, n, 2))\n",
        "cell_size = 1.0 / n\n",
        "dt = 0.01"
      ],
      "execution_count": null,
      "outputs": []
    },
    {
      "cell_type": "code",
      "metadata": {
        "id": "NtHazxxwkAWJ"
      },
      "source": [
        "velocity_grid[:, :, 0] = 1  # convention, origin top left, x points down, y points right\n",
        "velocity_grid[0, 0]"
      ],
      "execution_count": null,
      "outputs": []
    },
    {
      "cell_type": "code",
      "metadata": {
        "id": "F0sLdIhKqaml"
      },
      "source": [
        "def checkerboard(size, checker_width = 4):\n",
        "    board = np.zeros((size, size))\n",
        "    w = checker_width\n",
        "    for i in range(w):\n",
        "        for j in range(w):\n",
        "            board[i::w * 2, j::w * 2] = 1\n",
        "            board[i + w::w * 2, j + w::w * 2] = 1\n",
        "    return board\n",
        "\n",
        "density_grid = checkerboard(n,16)\n",
        "plt.imshow(density_grid)"
      ],
      "execution_count": null,
      "outputs": []
    },
    {
      "cell_type": "code",
      "metadata": {
        "id": "LfeJbLpnvHhJ"
      },
      "source": [
        "# These functions return the value of the cell itself at the boundaries\n",
        "def above(i, j):\n",
        "    return max(i -1, 0), j\n",
        "\n",
        "def below(i, j):\n",
        "    return min(i + 1, n - 1), j\n",
        "\n",
        "def left(i, j):\n",
        "    return i, max(j - 1, 0)\n",
        "\n",
        "def right(i, j):\n",
        "    return i, min(j + 1, n - 1)\n",
        "\n",
        "def diffuse(grid, viscocity):\n",
        "    grid_new = np.zeros((n, n))\n",
        "    for i in range(n):\n",
        "        for j in range(n):\n",
        "            grid_new[i, j] = grid[i, j] + viscocity * (grid[above(i, j)] + grid[below(i, j)] + grid[left(i, j)] + grid[right(i, j)] - 4 * grid[i, j])\n",
        "    return grid_new\n",
        "\n",
        "plt.imshow(diffuse(density_grid, viscocity=0.1))"
      ],
      "execution_count": null,
      "outputs": []
    },
    {
      "cell_type": "code",
      "metadata": {
        "id": "Lqp2khj04k1c"
      },
      "source": [
        "diffusion_history = [density_grid]\n",
        "\n",
        "for i in range(10):\n",
        "    density_grid_new = diffuse(density_grid, viscocity=0.2)\n",
        "    diffusion_history.append(density_grid_new)\n",
        "    density_grid = density_grid_new"
      ],
      "execution_count": null,
      "outputs": []
    },
    {
      "cell_type": "code",
      "metadata": {
        "id": "UqPnSw2f5tBv"
      },
      "source": [
        "fig = plt.figure(figsize=(5, 5), dpi=100)\n",
        "ax = fig.add_subplot(111)\n",
        "plt.close()  # prevents duplicate output \n",
        "\n",
        "def animate(i):\n",
        "    ax.imshow(diffusion_history[i])\n",
        "    \n",
        "animation.FuncAnimation(fig, animate, frames=len(diffusion_history))"
      ],
      "execution_count": null,
      "outputs": []
    },
    {
      "cell_type": "code",
      "metadata": {
        "id": "7GrTZwQDt7LE"
      },
      "source": [
        "# def bilinear_interpolation(x, y, points):\n",
        "#     '''Interpolate (x,y) from values associated with four points.\n",
        "\n",
        "#     The four points are a list of four triplets:  (x, y, value).\n",
        "#     The four points can be in any order.  They should form a rectangle.\n",
        "\n",
        "#         >>> bilinear_interpolation(12, 5.5,\n",
        "#         ...                        [(10, 4, 100),\n",
        "#         ...                         (20, 4, 200),\n",
        "#         ...                         (10, 6, 150),\n",
        "#         ...                         (20, 6, 300)])\n",
        "#         165.0\n",
        "\n",
        "#     '''\n",
        "#     # See formula at:  http://en.wikipedia.org/wiki/Bilinear_interpolation\n",
        "\n",
        "#     points = sorted(points)               # order points by x, then by y\n",
        "#     (x1, y1, q11), (_x1, y2, q12), (x2, _y1, q21), (_x2, _y2, q22) = points\n",
        "\n",
        "#     if x1 != _x1 or x2 != _x2 or y1 != _y1 or y2 != _y2:\n",
        "#         raise ValueError('points do not form a rectangle')\n",
        "#     # if not x1 <= x <= x2 or not y1 <= y <= y2:\n",
        "#     #     raise ValueError('(x, y) not within the rectangle')\n",
        "\n",
        "#     return (q11 * (x2 - x) * (y2 - y) +\n",
        "#             q21 * (x - x1) * (y2 - y) +\n",
        "#             q12 * (x2 - x) * (y - y1) +\n",
        "#             q22 * (x - x1) * (y - y1)\n",
        "#            ) / ((x2 - x1) * (y2 - y1) + 0.0)"
      ],
      "execution_count": null,
      "outputs": []
    },
    {
      "cell_type": "code",
      "metadata": {
        "id": "HIEOMozXRQfk"
      },
      "source": [
        "# class Grid():\n",
        "#     def __init__(self, cells=32, size=1.0):\n",
        "#         self.cells = cells\n",
        "#         self.size = 1.0\n",
        "#         self.cell_size = size / cells\n",
        "#         self.values = np.zeros(cells, cells)\n",
        "\n",
        "#     def index_to_coordinate(i):\n",
        "#         # This determines the position of the origin and the orientation of the axes\n",
        "#         # In this case, the origin is in the center of the cell i=0, j=0, and the \n",
        "#         # x-axis points down, the y-axis points to the right\n",
        "#         return i * self.cell_size\n",
        "\n",
        "\n",
        "# Grid().cell_size"
      ],
      "execution_count": null,
      "outputs": []
    },
    {
      "cell_type": "code",
      "metadata": {
        "id": "rCttXz18C-o3"
      },
      "source": [
        "# def interpolate_bilinear_from_grid(position, grid):\n",
        "#     x, y = position\n",
        "\n",
        "#     # Note that i, j are float here!\n",
        "#     i = x / cell_size\n",
        "#     j = y / cell_size\n",
        "\n",
        "#     i0 = int(np.floor(i)) % n\n",
        "#     i1 = (i0 + 1) % n\n",
        "#     j0 = int(np.floor(j)) % n\n",
        "#     j1 = (j0 + 1) % n\n",
        "\n",
        "#     x0 = (i0 + 1/2) * cell_size\n",
        "#     x1 = (i1 + 1/2) * cell_size\n",
        "#     y0 = (j0 + 1/2) * cell_size\n",
        "#     y1 = (j1 + 1/2) * cell_size\n",
        "\n",
        "#     points = (\n",
        "#         (x0, y0, grid[i0, j0]),\n",
        "#         (x0, y1, grid[i0, j1]),\n",
        "#         (x1, y0, grid[i1, j0]),\n",
        "#         (x1, y1, grid[i1, j1])\n",
        "#     )\n",
        "\n",
        "#     return bilinear_interpolation(x, y, points)"
      ],
      "execution_count": null,
      "outputs": []
    },
    {
      "cell_type": "code",
      "metadata": {
        "id": "2a8lebUwjHN5"
      },
      "source": [
        "plt.imshow(density_grid)"
      ],
      "execution_count": null,
      "outputs": []
    },
    {
      "cell_type": "code",
      "metadata": {
        "id": "_Q7Iusm4mDvH"
      },
      "source": [
        "def position(i ,j):\n",
        "    return i * cell_size, j * cell_size\n",
        "\n",
        "\n",
        "def interpolate_bilinear_from_grid(x, y, grid):\n",
        "    i = x / cell_size\n",
        "    j = y / cell_size\n",
        "\n",
        "    # Handling the corners: \n",
        "    # Only 1 value: return it\n",
        "    if i < 0 and j < 0:\n",
        "        return grid[0, 0]\n",
        "\n",
        "    if i < 0 and j >= n - 1:\n",
        "        return grid[0, n - 1]\n",
        "\n",
        "    if i >= n - 1 and j < 0:\n",
        "        return grid[n - 1, 0]\n",
        "    \n",
        "    if i >= n - 1 and j >= n - 1:\n",
        "        return grid[n - 1, n - 1]\n",
        "\n",
        "    i0 = int(np.floor(i))\n",
        "    i1 = i0 + 1\n",
        "    i_frac = i - i0 # fractional part of i\n",
        "\n",
        "    j0 = int(np.floor(j))\n",
        "    j1 = j0 + 1\n",
        "    j_frac = j - j0 # fractional part of j\n",
        "\n",
        "    # Handling the edges: \n",
        "    # Only 2 values: linear interpolation\n",
        "    if i < 0:\n",
        "        return (1 - j_frac) * grid[0, j0] + j_frac * grid[0, j1]\n",
        "\n",
        "    if i >= n - 1:\n",
        "        return (1 - j_frac) * grid[n - 1, j0] + j_frac * grid[n - 1, j1]\n",
        "\n",
        "    if j < 0:\n",
        "        return (1 - i_frac) * grid[i0, 0] + i_frac * grid[i1, 0]\n",
        "    \n",
        "    if j >= n - 1:\n",
        "        return (1 - i_frac) * grid[i0, n - 1] + i_frac * grid[i1, n - 1]\n",
        "\n",
        "    # Bilinear\n",
        "    # 4 values: bilinear interpolation\n",
        "    v = grid[i0, j0] * (1 - i_frac) * (1 - j_frac) + \\\n",
        "        grid[i0, j1] * i_frac * (1 - j_frac) + \\\n",
        "        grid[i1, i0] * (1 - i_frac) * j_frac + \\\n",
        "        grid[i1, j1] * i_frac * j_frac\n",
        "\n",
        "    return v\n",
        "\n",
        "\n",
        "def advect(quantity, velocity_grid):\n",
        "    quantity_new = np.zeros((n, n))\n",
        "    for i in range(n):\n",
        "        for j in range(n):\n",
        "            p = position(i, j)\n",
        "            v = velocity_grid[i, j]\n",
        "            p_back = p - v * dt\n",
        "\n",
        "            x, y = p_back\n",
        "\n",
        "            quantity_new[i, j] = interpolate_bilinear_from_grid(x, y, quantity)\n",
        "\n",
        "            # p = (i + 1/2) * cell_size, (j + 1/2) * cell_size\n",
        "            # v = velocity_grid[i, j]\n",
        "            # # print(v)\n",
        "            # p_backwards = p - v * dt # meters \n",
        "            # new_quantity[i, j] = interpolate_bilinear_from_grid(p_backwards, quantity)\n",
        "    return quantity_new\n",
        "\n",
        "plt.imshow(advect(density_grid, velocity_grid))"
      ],
      "execution_count": null,
      "outputs": []
    },
    {
      "cell_type": "code",
      "metadata": {
        "id": "aPBxd6tm1-od"
      },
      "source": [
        "for i in range(10):\n",
        "    density_grid_new = advect(density_grid, velocity_grid)\n",
        "\n",
        "plt.imshow(advect(density_grid, velocity_grid))"
      ],
      "execution_count": null,
      "outputs": []
    },
    {
      "cell_type": "code",
      "metadata": {
        "id": "hN0z7zyzkRC5"
      },
      "source": [
        "diffusion_history = [density_grid]\n",
        "\n",
        "for i in range(10):\n",
        "    density_grid_new = advect(density_grid, velocity_grid)\n",
        "    diffusion_history.append(density_grid_new)\n",
        "    density_grid = density_grid_new"
      ],
      "execution_count": null,
      "outputs": []
    },
    {
      "cell_type": "code",
      "metadata": {
        "id": "Ki61K-XdksOx"
      },
      "source": [
        "fig = plt.figure(figsize=(5, 5), dpi=100)\n",
        "ax = fig.add_subplot(111)\n",
        "plt.close()  # prevents duplicate output \n",
        "\n",
        "def animate(i):\n",
        "    ax.imshow(diffusion_history[i])\n",
        "    \n",
        "animation.FuncAnimation(fig, animate, frames=len(diffusion_history))"
      ],
      "execution_count": null,
      "outputs": []
    },
    {
      "cell_type": "code",
      "metadata": {
        "id": "FFfvzJQCkzBv"
      },
      "source": [
        ""
      ],
      "execution_count": null,
      "outputs": []
    }
  ]
}