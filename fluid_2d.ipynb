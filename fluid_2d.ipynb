{
  "nbformat": 4,
  "nbformat_minor": 0,
  "metadata": {
    "colab": {
      "name": "fluid_2d.ipynb",
      "provenance": [],
      "authorship_tag": "ABX9TyN3z/MKbi3oeHAWSzyJS/Xn",
      "include_colab_link": true
    },
    "kernelspec": {
      "name": "python3",
      "display_name": "Python 3"
    }
  },
  "cells": [
    {
      "cell_type": "markdown",
      "metadata": {
        "id": "view-in-github",
        "colab_type": "text"
      },
      "source": [
        "<a href=\"https://colab.research.google.com/github/Victorlouisdg/simulators/blob/main/fluid_2d.ipynb\" target=\"_parent\"><img src=\"https://colab.research.google.com/assets/colab-badge.svg\" alt=\"Open In Colab\"/></a>"
      ]
    },
    {
      "cell_type": "code",
      "metadata": {
        "id": "MsUiDTMGq_DI"
      },
      "source": [
        "import numpy as np\n",
        "import matplotlib.pyplot as plt"
      ],
      "execution_count": 1,
      "outputs": []
    },
    {
      "cell_type": "markdown",
      "metadata": {
        "id": "EK8OsxAdx9R4"
      },
      "source": [
        "# Defining the grid\n",
        "\n",
        "<img src=\"https://i.imgur.com/3FlzvX5.png\" width=500 />"
      ]
    },
    {
      "cell_type": "code",
      "metadata": {
        "id": "Y_Z0BX6vrAxI"
      },
      "source": [
        "n = amount_of_cells = 32\n",
        "velocity_grid = np.zeros((n, n, 2))\n",
        "cell_size = 1.0 / n\n",
        "dt = 0.01"
      ],
      "execution_count": 2,
      "outputs": []
    },
    {
      "cell_type": "code",
      "metadata": {
        "colab": {
          "base_uri": "https://localhost:8080/"
        },
        "id": "yzKxpXEfrGhH",
        "outputId": "89bce2ac-7840-4928-e6e1-f546a26a8891"
      },
      "source": [
        "def get_cell_center(i, j):\n",
        "    return (i * cell_size, j * cell_size)\n",
        "\n",
        "get_cell_center(1, 2)"
      ],
      "execution_count": 3,
      "outputs": [
        {
          "output_type": "execute_result",
          "data": {
            "text/plain": [
              "(0.03125, 0.0625)"
            ]
          },
          "metadata": {
            "tags": []
          },
          "execution_count": 3
        }
      ]
    },
    {
      "cell_type": "code",
      "metadata": {
        "colab": {
          "base_uri": "https://localhost:8080/"
        },
        "id": "nmpT8Qlr9N8E",
        "outputId": "394f351b-72a8-4c2c-baea-c4ef478b0bf1"
      },
      "source": [
        "def get_float_cell_index(x, y):\n",
        "    return (x / cell_size, y / cell_size)\n",
        "\n",
        "get_float_cell_index(1/2 * cell_size, cell_size)"
      ],
      "execution_count": 4,
      "outputs": [
        {
          "output_type": "execute_result",
          "data": {
            "text/plain": [
              "(0.5, 1.0)"
            ]
          },
          "metadata": {
            "tags": []
          },
          "execution_count": 4
        }
      ]
    },
    {
      "cell_type": "markdown",
      "metadata": {
        "id": "-3pNVR_T64Og"
      },
      "source": [
        "# Bilinear interpolation\n",
        "\n",
        "Bilinear interpolation is a way to interpolate the value at in point in 2D from 4 other points.\n",
        "\n",
        "I find the simplest way to understand it with a color-coded image:\n",
        "\n",
        "\n",
        "<img src=\"https://i.imgur.com/tfiWC5f.png\" width=500 />\n",
        "\n",
        "Here the contribution of the yellow point's value to the pink point, is proportional to the yellow area.\n",
        "This makes intuiive sense because the closer the pink point is to the yellow point, the larger yellow area becomes."
      ]
    },
    {
      "cell_type": "code",
      "metadata": {
        "id": "DNXbTgp21FqJ"
      },
      "source": [
        "def bilinear_interpolate(grid, i_float, j_float):\n",
        "    i = int(np.floor(i_float))\n",
        "    j = int(np.floor(j_float))\n",
        "\n",
        "    a = i_fractional_part = i_float - i\n",
        "    b = j_fractional_part = j_float - j\n",
        "\n",
        "    red = a * b\n",
        "    green = a * (1 - b)\n",
        "    blue = (1 - a) * b\n",
        "    yellow = (1 - a) * (1 - b)\n",
        "\n",
        "    # When a value is OOB, use the value inside instead\n",
        "    i = max(i, 0)\n",
        "    i_1 = min(i + 1, grid.shape[0] - 1)\n",
        "    j = max(j, 0)\n",
        "    j_1 = min(j+ 1, grid.shape[1] - 1)\n",
        "\n",
        "    return yellow * grid[i, j] + \\\n",
        "           green * grid[i_1, j] + \\\n",
        "           blue * grid[i, j_1] + \\\n",
        "           red * grid[i_1, j_1]"
      ],
      "execution_count": 5,
      "outputs": []
    },
    {
      "cell_type": "code",
      "metadata": {
        "colab": {
          "base_uri": "https://localhost:8080/"
        },
        "id": "ZxQC-vNq7B5t",
        "outputId": "2852d583-e25c-4eed-8539-d4c41c1f40b4"
      },
      "source": [
        "mini_grid = np.array([[1, 0.5], [0, 1]])\n",
        "print(mini_grid)"
      ],
      "execution_count": 6,
      "outputs": [
        {
          "output_type": "stream",
          "text": [
            "[[1.  0.5]\n",
            " [0.  1. ]]\n"
          ],
          "name": "stdout"
        }
      ]
    },
    {
      "cell_type": "code",
      "metadata": {
        "colab": {
          "base_uri": "https://localhost:8080/",
          "height": 322
        },
        "id": "sRLUUlWp_K6K",
        "outputId": "e633ff41-aa74-4a8a-9706-7fb62a64a29a"
      },
      "source": [
        "steps = 100\n",
        "step_size = 1.0 / (steps - 1)\n",
        "grid_interpolated = np.zeros((steps, steps))\n",
        "\n",
        "for k in range(steps):\n",
        "    for l in range(steps):\n",
        "        grid_interpolated[k, l] = bilinear_interpolate(mini_grid, k * step_size, l * step_size)\n",
        "\n",
        "fig = plt.figure(figsize=(5, 5))\n",
        "plt.imshow(grid_interpolated,  cmap=plt.get_cmap(\"plasma\"));"
      ],
      "execution_count": 7,
      "outputs": [
        {
          "output_type": "display_data",
          "data": {
            "image/png": "[encoded data removed]",
            "text/plain": [
              "<Figure size 360x360 with 1 Axes>"
            ]
          },
          "metadata": {
            "tags": [],
            "needs_background": "light"
          }
        }
      ]
    },
    {
      "cell_type": "markdown",
      "metadata": {
        "id": "bWRDTEbFIfyg"
      },
      "source": [
        "# Diffusion\n",
        "Diffusion in balance when a cell is the average of it's neighbors.\n",
        "\n",
        "(Laplacian = sum of second order derivatives)\n",
        "\n",
        "One way to implement this:\n",
        "\n",
        "<img src=\"https://encrypted-tbn0.gstatic.com/images?q=tbn:ANd9GcSu3WvQYcbjMTdkvVfeZiTUaDB0NLW0LqtVaQ&usqp=CAU\" />\n",
        "\n"
      ]
    },
    {
      "cell_type": "code",
      "metadata": {
        "id": "SFXA0UNbBaeX"
      },
      "source": [
        "def laplacian(grid, i, j):\n",
        "    value_center = -4 * grid[i, j]\n",
        "    value_left = grid[i, max(j - 1, 0)]\n",
        "    value_right = grid[i, min(j + 1, grid.shape[1] - 1)]\n",
        "    value_above = grid[max(i - 1, 0), j]\n",
        "    value_below = grid[max(i + 1, grid.shape[0]), j]\n",
        "\n",
        "    return value_center + value_left + value_right + value_above + value_below"
      ],
      "execution_count": 8,
      "outputs": []
    }
  ]
}