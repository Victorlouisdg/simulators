{
  "nbformat": 4,
  "nbformat_minor": 0,
  "metadata": {
    "colab": {
      "name": "fluid_2d.ipynb",
      "provenance": [],
      "collapsed_sections": [],
      "authorship_tag": "ABX9TyMzSC8s9aWZfntowKmblD1n",
      "include_colab_link": true
    },
    "kernelspec": {
      "name": "python3",
      "display_name": "Python 3"
    }
  },
  "cells": [
    {
      "cell_type": "markdown",
      "metadata": {
        "id": "view-in-github",
        "colab_type": "text"
      },
      "source": [
        "<a href=\"https://colab.research.google.com/github/Victorlouisdg/simulators/blob/main/fluid_2d.ipynb\" target=\"_parent\"><img src=\"https://colab.research.google.com/assets/colab-badge.svg\" alt=\"Open In Colab\"/></a>"
      ]
    },
    {
      "cell_type": "code",
      "metadata": {
        "id": "pBjj_qZESlqx"
      },
      "source": [
        "import numpy as np\n",
        "import matplotlib\n",
        "import matplotlib.pyplot as plt\n",
        "from matplotlib import animation, rc\n",
        "from IPython.display import HTML\n",
        "matplotlib.rc('animation', html='jshtml')"
      ],
      "execution_count": null,
      "outputs": []
    },
    {
      "cell_type": "code",
      "metadata": {
        "id": "F0HJBAvjSpJz"
      },
      "source": [
        "n = amount_of_cells = 32\n",
        "velocity_grid = np.zeros((n, n, 2))\n",
        "# density_field = np.zeros((n, n))\n",
        "cell_size = 1.0 / 32\n",
        "dt = 0.01"
      ],
      "execution_count": null,
      "outputs": []
    },
    {
      "cell_type": "code",
      "metadata": {
        "id": "rv7baj5bnk_a"
      },
      "source": [
        "x = np.zeros((n, n))\n",
        "# (odd_rows, even_columns)\n",
        "x[1::2,::2] = 1\n",
        "# (even_rows, odd_columns)\n",
        "x[::2,1::2] = 1\n",
        "#plt.imshow(x)"
      ],
      "execution_count": null,
      "outputs": []
    },
    {
      "cell_type": "code",
      "metadata": {
        "id": "he7HUlO7oj-Z"
      },
      "source": [
        "y = np.zeros((n, n))\n",
        "y[::4, ::4] = 1\n",
        "y[1::4, ::4] = 1\n",
        "y[::4, 1::4] = 1\n",
        "y[1::4, 1::4] = 1\n",
        "\n",
        "y[2::4, 2::4] = 1\n",
        "y[3::4, 2::4] = 1\n",
        "y[2::4, 3::4] = 1\n",
        "y[3::4, 3::4] = 1\n",
        "\n",
        "#plt.imshow(y)"
      ],
      "execution_count": null,
      "outputs": []
    },
    {
      "cell_type": "code",
      "metadata": {
        "id": "F0sLdIhKqaml"
      },
      "source": [
        "z = np.zeros((n, n))\n",
        "\n",
        "w = 8\n",
        "w2 = w * 2\n",
        "for i in range(w):\n",
        "    for j in range(w):\n",
        "        z[i::w2, j::w2] = 1\n",
        "        z[i + w::w2, j + w::w2] = 1\n",
        "\n",
        "density_grid = z\n",
        "plt.imshow(z)"
      ],
      "execution_count": null,
      "outputs": []
    },
    {
      "cell_type": "code",
      "metadata": {
        "id": "NtHazxxwkAWJ"
      },
      "source": [
        "velocity_grid[:, :, 0] = 1\n",
        "velocity_grid[0, 0]"
      ],
      "execution_count": null,
      "outputs": []
    },
    {
      "cell_type": "code",
      "metadata": {
        "id": "LfeJbLpnvHhJ"
      },
      "source": [
        "def above(i, j):\n",
        "    return (i - 1) % n, j\n",
        "\n",
        "def below(i, j):\n",
        "    return (i + 1) % n, j\n",
        "\n",
        "def left(i, j):\n",
        "    return i, (j - 1) % n\n",
        "\n",
        "def right(i, j):\n",
        "    return i, (j + 1) % n\n",
        "\n",
        "def diffuse(grid, viscocity):\n",
        "    grid_new = np.zeros((n, n))\n",
        "    for i in range(n):\n",
        "        for j in range(n):\n",
        "            grid_new[i, j] = grid[i, j] + viscocity * (grid[above(i, j)] + grid[below(i, j)] + grid[left(i, j)] + grid[right(i, j)] - 4 * grid[i, j])\n",
        "    return grid_new\n",
        "\n",
        "plt.imshow(diffuse(density_grid, viscocity=0.1))"
      ],
      "execution_count": null,
      "outputs": []
    },
    {
      "cell_type": "code",
      "metadata": {
        "id": "Lqp2khj04k1c"
      },
      "source": [
        "diffusion_history = [density_grid]\n",
        "\n",
        "for i in range(20):\n",
        "    density_grid_new = diffuse(density_grid, viscocity=0.1)\n",
        "    diffusion_history.append(density_grid_new)\n",
        "    density_grid = density_grid_new"
      ],
      "execution_count": null,
      "outputs": []
    },
    {
      "cell_type": "code",
      "metadata": {
        "id": "UqPnSw2f5tBv"
      },
      "source": [
        "fig = plt.figure(figsize=(5, 5), dpi=100)\n",
        "ax = fig.add_subplot(111)\n",
        "plt.close()  # prevents duplicate output \n",
        "\n",
        "def animate(i):\n",
        "    ax.imshow(diffusion_history[i])\n",
        "    \n",
        "animation.FuncAnimation(fig, animate, frames=len(diffusion_history))"
      ],
      "execution_count": null,
      "outputs": []
    },
    {
      "cell_type": "code",
      "metadata": {
        "id": "rCttXz18C-o3"
      },
      "source": [
        "def interpolate_linear_from_grid(position, grid):\n",
        "    # position -> 4 cells and 4 fractions that sum to 1\n",
        "    x, y = position\n",
        "\n",
        "    i = np.floor(x / dx)\n",
        "    pass"
      ],
      "execution_count": null,
      "outputs": []
    },
    {
      "cell_type": "code",
      "metadata": {
        "id": "_Q7Iusm4mDvH"
      },
      "source": [
        "def advect(quantity, velocity_grid):\n",
        "    new_quantity = np.zeros((n, n))\n",
        "    for i in range(n):\n",
        "        for j in range(n):\n",
        "            v = velocity_grid[i, j]\n",
        "            p = -v * dt # meters \n",
        "\n",
        "\n",
        "            i_old_float = i + displacement_backwards[0] * n # index + meter * indices/meter\n",
        "            i_lower = int(np.floor(i_old_float))\n",
        "            i_upper = i_lower + 1\n",
        "            i_lower_fraction = i_old_float - i_lower\n",
        "            i_upper_fraction = i_upper - i_old_float\n",
        "            new_quantity[i, j] = i_lower_fraction * quantity[i_lower, j] + i_upper_fraction * quantity[int(i_upper), j] \n",
        "\n",
        "    return new_quantity\n",
        "\n",
        "plt.imshow(advect(density_grid, velocity_grid))"
      ],
      "execution_count": null,
      "outputs": []
    },
    {
      "cell_type": "code",
      "metadata": {
        "id": "aPBxd6tm1-od"
      },
      "source": [
        ""
      ],
      "execution_count": null,
      "outputs": []
    }
  ]
}