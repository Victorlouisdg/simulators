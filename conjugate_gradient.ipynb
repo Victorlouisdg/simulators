{
  "nbformat": 4,
  "nbformat_minor": 0,
  "metadata": {
    "colab": {
      "name": "conjugate_gradient.ipynb",
      "provenance": [],
      "collapsed_sections": [],
      "authorship_tag": "ABX9TyOb2UC4UHorqcE6+4SUrXV/",
      "include_colab_link": true
    },
    "kernelspec": {
      "name": "python3",
      "display_name": "Python 3"
    },
    "language_info": {
      "name": "python"
    }
  },
  "cells": [
    {
      "cell_type": "markdown",
      "metadata": {
        "id": "view-in-github",
        "colab_type": "text"
      },
      "source": [
        "<a href=\"https://colab.research.google.com/github/Victorlouisdg/simulators/blob/main/conjugate_gradient.ipynb\" target=\"_parent\"><img src=\"https://colab.research.google.com/assets/colab-badge.svg\" alt=\"Open In Colab\"/></a>"
      ]
    },
    {
      "cell_type": "code",
      "metadata": {
        "id": "8XKfiWSuxyLm"
      },
      "source": [
        "import numpy as np\n",
        "np.random.seed(0)"
      ],
      "execution_count": 1,
      "outputs": []
    },
    {
      "cell_type": "code",
      "metadata": {
        "id": "rV2WjVUcyxj-"
      },
      "source": [
        "def iterate_cg(A, x, r, p):\n",
        "    \"\"\"\n",
        "    Basic iteration of the conjugate gradient algorithm\n",
        "\n",
        "    Parameters:\n",
        "    x: current iterate\n",
        "    r: current residual\n",
        "    p: current direction\n",
        "    A: matrix of interest\n",
        "    \"\"\"\n",
        "\n",
        "    Ap = A @ p\n",
        "    rTr = np.dot(r, r)\n",
        "\n",
        "    a = rTr / np.dot(p, Ap)\n",
        "    x_new = x + a * p\n",
        "    r_new = r + a * Ap\n",
        "\n",
        "    # New p not needed for last iteration\n",
        "    beta_new = np.dot(r_new, r_new) / rTr\n",
        "    p_new = -r_new + beta_new * p\n",
        "\n",
        "    return x_new, r_new, p_new\n",
        "\n",
        "\n",
        "def run_conjugate_gradient(A, x0, b, max_iter=40):\n",
        "    \"\"\"\n",
        "    Conjugate gradient algorithm\n",
        "\n",
        "    Parameters:\n",
        "    x0: initial point\n",
        "    A: matrix of interest\n",
        "    b: vector in linear system (Ax = b)\n",
        "    max_iter: max number of iterations to run CG\n",
        "    \"\"\"\n",
        "\n",
        "    # initial iteration\n",
        "    xk = x0\n",
        "    rk = A @ xk - b\n",
        "    pk = -rk\n",
        "\n",
        "    for i in (range(max_iter)):\n",
        "        xk, rk, pk = iterate_cg(A, xk, rk, pk)\n",
        "        e = np.sum(np.abs(rk))\n",
        "        print(e, \"   \", np.sum(A @ xk -b))\n",
        "\n",
        "    pk = -rk"
      ],
      "execution_count": 2,
      "outputs": []
    },
    {
      "cell_type": "code",
      "metadata": {
        "colab": {
          "base_uri": "https://localhost:8080/"
        },
        "id": "fkUuNDfvzCoh",
        "outputId": "5d79bd75-05b4-4baa-9c4a-e1acbb4d2a59"
      },
      "source": [
        "n = 50\n",
        "\n",
        "A = np.identity(n)\n",
        "A *= np.random.rand(n)\n",
        "\n",
        "x0 = np.ones(n)\n",
        "b = np.random.rand(n)\n",
        "\n",
        "run_conjugate_gradient(A, x0, b)"
      ],
      "execution_count": 3,
      "outputs": [
        {
          "output_type": "stream",
          "text": [
            "7.715430637257627     -6.3349154853438545\n",
            "11.162950873920975     -2.3418185592504557\n",
            "9.358631407528712     1.63532454741279\n",
            "7.029308633952032     0.9208721855641002\n",
            "6.527974551648756     -0.0663242243141961\n",
            "4.9760794716582115     0.15293991541694046\n",
            "3.5280528860719507     -0.4058441770762788\n",
            "2.319860607947089     -0.04547620038907216\n",
            "2.0145632724361406     0.1479219538319713\n",
            "1.182030340562115     0.11073720661931376\n",
            "0.800327012805395     0.014843795825131595\n",
            "0.39019226922741596     -0.027795685223465986\n",
            "0.17899860747612845     -0.04229233424426922\n",
            "0.15394265231436655     -0.006079697980735508\n",
            "0.1309517469773319     0.024503309415939502\n",
            "0.09281307797754822     0.0078531697427961\n",
            "0.08068186002336536     -0.00887574966125194\n",
            "0.10774140504415071     -0.016008698048967866\n",
            "0.053629076283923896     0.0036865959597398665\n",
            "0.038783108225437006     0.01050849843010967\n",
            "0.02576450887996202     -0.0003568932176055183\n",
            "0.009186039591557634     -0.00017422315001524354\n",
            "0.004476445848841198     -0.00017228569775987797\n",
            "0.0032114763397175406     0.0010585109387444488\n",
            "0.0020757831787241005     -0.00032332607794730104\n",
            "0.0018287610640745603     -0.0003349794893716075\n",
            "0.0004905403233117693     5.877237643256428e-05\n",
            "0.0001577929514830413     3.0052517320762646e-05\n",
            "0.00012874173054283204     3.127075747647208e-05\n",
            "7.571490844856294e-05     9.10036479927906e-06\n",
            "1.5258669953136431e-05     1.38531220869164e-06\n",
            "2.8250106787426806e-06     3.1484501123064945e-07\n",
            "6.723600129361189e-07     -1.3509825192489083e-07\n",
            "1.0705294897381874e-07     -3.316774132688244e-08\n",
            "1.1510866014116191e-08     -2.0883166211918547e-09\n",
            "2.379108019305127e-09     2.1285998224457314e-10\n",
            "5.307883326317105e-10     -9.99103733773099e-11\n",
            "1.308341760806802e-10     -3.0118043475857448e-12\n",
            "1.7035763722368564e-11     3.3172848148965706e-12\n",
            "2.4526952145962565e-12     -8.981062421531405e-13\n"
          ],
          "name": "stdout"
        }
      ]
    },
    {
      "cell_type": "code",
      "metadata": {
        "id": "7PLVZ3Zs0u8e"
      },
      "source": [
        ""
      ],
      "execution_count": 3,
      "outputs": []
    }
  ]
}