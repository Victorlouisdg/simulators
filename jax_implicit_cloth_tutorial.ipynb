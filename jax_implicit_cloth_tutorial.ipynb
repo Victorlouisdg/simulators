{
  "nbformat": 4,
  "nbformat_minor": 0,
  "metadata": {
    "colab": {
      "name": "jax_implicit_cloth_tutorial.ipynb",
      "provenance": [],
      "collapsed_sections": [],
      "authorship_tag": "ABX9TyMQ6cN05lhBdlPJurBN4ymh",
      "include_colab_link": true
    },
    "kernelspec": {
      "name": "python3",
      "display_name": "Python 3"
    },
    "language_info": {
      "name": "python"
    }
  },
  "cells": [
    {
      "cell_type": "markdown",
      "metadata": {
        "id": "view-in-github",
        "colab_type": "text"
      },
      "source": [
        "<a href=\"https://colab.research.google.com/github/Victorlouisdg/simulators/blob/main/jax_implicit_cloth_tutorial.ipynb\" target=\"_parent\"><img src=\"https://colab.research.google.com/assets/colab-badge.svg\" alt=\"Open In Colab\"/></a>"
      ]
    },
    {
      "cell_type": "code",
      "metadata": {
        "id": "UA6tBkYqXHzf"
      },
      "source": [
        "!pip install meshzoo"
      ],
      "execution_count": null,
      "outputs": []
    },
    {
      "cell_type": "code",
      "metadata": {
        "id": "a6bDQcLFXSSW"
      },
      "source": [
        "import numpy as np\n",
        "import jax.numpy as jnp\n",
        "import jax.scipy.sparse\n",
        "from jax import grad, jit, vmap, hessian\n",
        "from jax import jacfwd, jacrev\n",
        "from jax.lax import scan\n",
        "from jax.ops import index, index_add, index_update\n",
        "import meshzoo\n",
        "from functools import partial\n",
        "import plotly.graph_objs as go\n",
        "import plotly.io as pio\n",
        "\n",
        "pio.templates.default = \"plotly_white\" # also nice: \"simple_white\"\n",
        "pio.renderers.default = \"colab\"\n",
        "# pio.renderers.default = \"svg\" # static plots for Github\n",
        "# pio.renderers.default = \"notebook_connected\" # interactive plots for NBViewer"
      ],
      "execution_count": null,
      "outputs": []
    },
    {
      "cell_type": "markdown",
      "metadata": {
        "id": "YE02ieY70J_M"
      },
      "source": [
        "# Mesh and state"
      ]
    },
    {
      "cell_type": "markdown",
      "metadata": {
        "id": "sEo6HCjTa6dA"
      },
      "source": [
        "## Getting the mesh from meshzoo\n",
        "Baraff & Witkin simulate cloth as a 3D triangle mesh, but with a 2D rest state. \n",
        "This reflects the fact that clothes are made from pieces cut out of 2D sheets of fabric."
      ]
    },
    {
      "cell_type": "code",
      "metadata": {
        "id": "gHlsqVimXX81"
      },
      "source": [
        "rest_positions_2D, triangles = meshzoo.rectangle_tri(\n",
        "    (0.0, 0.0),\n",
        "    (1.0, 1.0),\n",
        "    n=4,\n",
        "    variant=\"zigzag\",  # or \"up\", \"down\", \"center\"\n",
        ")\n",
        "\n",
        "rest_positions_2D = jnp.array(rest_positions_2D)\n",
        "amount_of_triangles = triangles.shape[0]\n",
        "\n",
        "print(\"There are\", amount_of_triangles, \"triangles in the mesh.\")\n",
        "print(\"The first triangle contains vertices:\", triangles[0])"
      ],
      "execution_count": null,
      "outputs": []
    },
    {
      "cell_type": "markdown",
      "metadata": {
        "id": "qZmNlEkmYVsu"
      },
      "source": [
        "## Initializing the 3D positions"
      ]
    },
    {
      "cell_type": "code",
      "metadata": {
        "id": "IDHL9faFXxS2"
      },
      "source": [
        "amount_of_vertices = rest_positions_2D.shape[0]\n",
        "print(\"There are\", amount_of_vertices, \"vertices in the mesh.\")"
      ],
      "execution_count": null,
      "outputs": []
    },
    {
      "cell_type": "code",
      "metadata": {
        "id": "EUbeGnQoyEjN"
      },
      "source": [
        "positions_z = np.zeros(amount_of_vertices)\n",
        "\n",
        "positions = jnp.column_stack([rest_positions_2D, positions_z])\n",
        "velocities = jnp.zeros_like(positions)\n",
        "\n",
        "system_size = 3 * amount_of_vertices\n",
        "\n",
        "print(\"The positions array has shape\", positions.shape, \"and system size is\", system_size, \".\")"
      ],
      "execution_count": null,
      "outputs": []
    },
    {
      "cell_type": "markdown",
      "metadata": {
        "id": "Jq3dKqP-1QU7"
      },
      "source": [
        "## Vizualizing the cloth with Plotly"
      ]
    },
    {
      "cell_type": "code",
      "metadata": {
        "id": "9Tz0hpuue8oW"
      },
      "source": [
        "def get_vertices_go(positions, color='deeppink'):\n",
        "    x, y, z = positions.T\n",
        "    vertices_go = go.Scatter3d(x=x, y=y, z=z,\n",
        "                               mode='markers+text',\n",
        "                               marker=dict(size=5, color=color),\n",
        "                               text=[str(i) for i in range(len(positions))])\n",
        "    return vertices_go\n",
        "\n",
        "def get_mesh_go(positions, triangles, color='deepskyblue', opacity=1.0):\n",
        "    x, y, z = positions.T\n",
        "    i, j, k = triangles.T\n",
        "    mesh_go = go.Mesh3d(x=x, y=y, z=z,\n",
        "                        i=i, j=j, k=k,\n",
        "                        color=color,\n",
        "                        opacity=opacity,\n",
        "                        hoverinfo='skip')\n",
        "    return mesh_go\n",
        "\n",
        "def make_fig(data, \n",
        "             xrange=[-0.6, 1.6], \n",
        "             yrange=[-1.1, 1.1], \n",
        "             zrange=[-2, 0.25], \n",
        "             eye=dict(x=-1.0, y=-1.0, z=1.0),\n",
        "             center=None,\n",
        "             up=None):\n",
        "    fig = go.Figure(data=data)\n",
        "    fig.update_layout(scene = dict(\n",
        "        xaxis=dict(range=xrange, autorange=False),\n",
        "        yaxis=dict(range=yrange, autorange=False),\n",
        "        zaxis=dict(range=zrange, autorange=False),\n",
        "        aspectmode='cube',\n",
        "        camera = dict(eye=eye, center=center, up=up)\n",
        "    ))\n",
        "\n",
        "    fig.update_layout(margin=dict(l=0, r=0, b=0, t=0)) # tight layout\n",
        "    return fig\n",
        "\n",
        "data = [get_vertices_go(positions),\n",
        "        get_mesh_go(positions, triangles)]\n",
        "\n",
        "make_fig(data).show()"
      ],
      "execution_count": null,
      "outputs": []
    },
    {
      "cell_type": "markdown",
      "metadata": {
        "id": "h-x-6lM8dlJf"
      },
      "source": [
        "# Forces and Energy"
      ]
    },
    {
      "cell_type": "markdown",
      "metadata": {
        "id": "p5JJ-7TN30zK"
      },
      "source": [
        "## Deformation Gradient"
      ]
    },
    {
      "cell_type": "code",
      "metadata": {
        "id": "9PvjgdtcfEu-"
      },
      "source": [
        "def deformation_gradient(positions, positions_uv):\n",
        "    uv0, uv1, uv2 = positions_uv\n",
        "    # (u0, v0), (u1, v1), (u2, v2) = uv0, uv1, uv2\n",
        "    # delta_u1 = u1 - u0\n",
        "    # delta_u2 = u2 - u0\n",
        "    # delta_v1 = v1 - v0\n",
        "    # delta_v2 = v2 - v0\n",
        "    # delta_u_matrix = jnp.array([(delta_u1, delta_u2),\n",
        "    #                            (delta_v1, delta_v2)])\n",
        "\n",
        "    delta_uv1 = uv1 - uv0\n",
        "    delta_uv2 = uv2 - uv0 \n",
        "    delta_u_matrix = jnp.column_stack((delta_uv1, delta_uv2))\n",
        "    inverted_delta_u_matrix = jnp.linalg.inv(delta_u_matrix)\n",
        "\n",
        "    x0, x1, x2 = positions\n",
        "    delta_x1 = x1 - x0\n",
        "    delta_x2 = x2 - x0\n",
        "    delta_x_matrix = jnp.column_stack((delta_x1, delta_x2))\n",
        "\n",
        "    # Equation (9) in Baraff-Witkin.\n",
        "    w_uv = delta_x_matrix @ inverted_delta_u_matrix\n",
        "    wu, wv = jnp.hsplit(w_uv, 2)\n",
        "    return wu, wv"
      ],
      "execution_count": null,
      "outputs": []
    },
    {
      "cell_type": "markdown",
      "metadata": {
        "id": "iYYj0DGJ3z6M"
      },
      "source": [
        "## Energy of a single triangle"
      ]
    },
    {
      "cell_type": "code",
      "metadata": {
        "id": "52q3KXUNY_ny"
      },
      "source": [
        "triangle = jnp.array([[0, 1, 2]])\n",
        "triangle_positions = jnp.array([[0.0, 0.0, 0.0],\n",
        "                                [1.0, 0.0, 0.0],\n",
        "                                [0.5, 0.5, 0.0]])\n",
        "\n",
        "triangle_rest_positions_2D = jnp.array([[0.0, 0.0], [1.0, 0.0], [0.5, 0.5]])\n",
        "triangle_positions_new = index_add(triangle_positions, index[2, 1], 0.5)"
      ],
      "execution_count": null,
      "outputs": []
    },
    {
      "cell_type": "code",
      "metadata": {
        "id": "U-QPvXijhW9q"
      },
      "source": [
        "def triangle_area(triangle_vertices):\n",
        "    v0, v1, v2 = triangle_vertices\n",
        "    return jnp.linalg.norm(jnp.cross(v1 - v0, v2 - v0)) / 2.0"
      ],
      "execution_count": null,
      "outputs": []
    },
    {
      "cell_type": "code",
      "metadata": {
        "id": "LL09w3NBd0MB"
      },
      "source": [
        "def stretch_energy(positions, rest_positions, ku, kv):\n",
        "    \"\"\"\n",
        "    Calculates the energy due to stretching of a single triangle.\n",
        "\n",
        "    :param positions: The current 3D positions of the 3 vertices.\n",
        "    :param rest_positions: The 2D rest positions of the 3 vertices.\n",
        "    :param ku: The stretch stiffness along the first 2D dimension.\n",
        "    :param kv: The stretch stiffness along the second 2D dimension.\n",
        "    \"\"\"\n",
        "    wu, wv = deformation_gradient(positions, rest_positions)\n",
        "    area_uv = triangle_area(rest_positions)\n",
        "\n",
        "    Cu = jnp.linalg.norm(wu) - 1.0\n",
        "    Cv = jnp.linalg.norm(wv) - 1.0\n",
        "\n",
        "    Eu = 0.5 * area_uv * (Cu ** 2)\n",
        "    Ev = 0.5 * area_uv * (Cv ** 2)\n",
        "\n",
        "    E = ku * Eu + kv * Ev\n",
        "    return E"
      ],
      "execution_count": null,
      "outputs": []
    },
    {
      "cell_type": "code",
      "metadata": {
        "id": "AxwtV0TFfzh3"
      },
      "source": [
        "stretch_energy(triangle_positions_new, triangle_rest_positions_2D, 200.0, 200.0)\n",
        "triangle_forces = -1.0 * grad(stretch_energy)(triangle_positions_new, triangle_rest_positions_2D, 200.0, 200.0)\n",
        "print(triangle_forces)"
      ],
      "execution_count": null,
      "outputs": []
    },
    {
      "cell_type": "code",
      "metadata": {
        "id": "rGJpyGivEQae"
      },
      "source": [
        "def get_cones_go(positions, directions,):\n",
        "    x, y, z = positions.T\n",
        "    u, v, w = directions.T\n",
        "    cones_go = go.Cone(x=x, y=y, z=z,\n",
        "                       u=u, v=v, w=w,\n",
        "                       sizemode='scaled',\n",
        "                       sizeref=0.1)\n",
        "    return cones_go\n",
        "\n",
        "data = [get_vertices_go(triangle_positions_new, color='green'),\n",
        "        get_vertices_go(triangle_positions),\n",
        "        get_mesh_go(triangle_positions_new, triangle, opacity=0.4, color='lightblue'),\n",
        "        get_mesh_go(triangle_positions, triangle, opacity=0.4),\n",
        "        get_cones_go(triangle_positions_new, triangle_forces)]\n",
        "\n",
        "cx, cy, cz = triangle_positions[2]\n",
        "make_fig(data, \n",
        "         xrange=[-0.4, 1.2],\n",
        "         yrange=[-0.4, 1.2],\n",
        "         zrange=[-0.5, 0.5],\n",
        "         eye=dict(x=1.0, y=-0.1, z=1.0)).show()"
      ],
      "execution_count": null,
      "outputs": []
    },
    {
      "cell_type": "markdown",
      "metadata": {
        "id": "dE38SI-JOrqu"
      },
      "source": [
        "## Total energy"
      ]
    },
    {
      "cell_type": "code",
      "metadata": {
        "id": "T2p9hT4WOqeu"
      },
      "source": [
        "def triangle_energy(positions, vertex_indices, k_stretch_u, k_stretch_v, rest_positions_2D):\n",
        "  uv0, uv1, uv2 = rest_positions_2D[vertex_indices]\n",
        "  x0, x1, x2 = positions[vertex_indices]\n",
        "  energy = stretch_energy((x0, x1, x2), (uv0, uv1, uv2), k_stretch_u, k_stretch_v)\n",
        "  return energy"
      ],
      "execution_count": null,
      "outputs": []
    },
    {
      "cell_type": "code",
      "metadata": {
        "id": "FHIWolYvPVFS"
      },
      "source": [
        "def total_mesh_energy(positions_flat, triangle_energy_fn, triangles):\n",
        "    positions = positions_flat.reshape(-1, 3) # reshape back into 3-column layout\n",
        "    triangle_energy_vmap_fn = jit(partial(triangle_energy_fn, positions))\n",
        "    total_energy = jnp.sum(vmap(triangle_energy_vmap_fn)(triangles))\n",
        "    return -total_energy\n",
        "\n",
        "\n",
        "triangle_energy_fn = partial(triangle_energy,\n",
        "                             k_stretch_u=1000.0,\n",
        "                             k_stretch_v=1000.0,\n",
        "                             rest_positions_2D=rest_positions_2D)\n",
        "\n",
        "total_mesh_energy(positions, triangle_energy_fn, triangles)\n",
        "\n",
        "\n",
        "total_mesh_energy_ = partial(total_mesh_energy,\n",
        "                             triangle_energy_fn=triangle_energy_fn,\n",
        "                             triangles=triangles)"
      ],
      "execution_count": null,
      "outputs": []
    },
    {
      "cell_type": "code",
      "metadata": {
        "id": "x1UJq0TmQCe3"
      },
      "source": [
        "calculate_forces = jit(grad(total_mesh_energy_))"
      ],
      "execution_count": null,
      "outputs": []
    },
    {
      "cell_type": "markdown",
      "metadata": {
        "id": "Z58mcubPx3yp"
      },
      "source": [
        "# Gravity"
      ]
    },
    {
      "cell_type": "code",
      "metadata": {
        "id": "UY21srWdx4a-"
      },
      "source": [
        "m = 1.0 / amount_of_vertices\n",
        "masses = jnp.array([m] * system_size)\n",
        "\n",
        "standard_gravity = [0.0, 0.0, -9.81]\n",
        "gravity_forces = masses * jnp.array(standard_gravity * amount_of_vertices)"
      ],
      "execution_count": null,
      "outputs": []
    },
    {
      "cell_type": "markdown",
      "metadata": {
        "id": "V7-dgTrSd2B3"
      },
      "source": [
        "# Time Integration"
      ]
    },
    {
      "cell_type": "markdown",
      "metadata": {
        "id": "0kMvZuvVrloR"
      },
      "source": [
        "## Explicit Integration"
      ]
    },
    {
      "cell_type": "code",
      "metadata": {
        "id": "lVXyZG4Bxv_y"
      },
      "source": [
        "dt_explicit = 0.0001"
      ],
      "execution_count": null,
      "outputs": []
    },
    {
      "cell_type": "code",
      "metadata": {
        "id": "hXbdDSxA8YUG"
      },
      "source": [
        "def simulate_step_explicit(carry,\n",
        "                           unused_input,\n",
        "                           forces_fn,\n",
        "                           masses, \n",
        "                           pinned_vertices, \n",
        "                           dt):\n",
        "    positions, velocities = state = carry\n",
        "\n",
        "    f0 = forces_fn(positions.flatten())\n",
        "    f0 = f0 + gravity_forces\n",
        "    accelerations = f0 / masses\n",
        "    accelerations = accelerations.reshape(-1, 3)\n",
        "\n",
        "    accelerations = index_update(accelerations, jnp.array(pinned_vertices), 0.0)\n",
        "\n",
        "    velocities_new = velocities + accelerations * dt\n",
        "    positions_new = positions + velocities * dt\n",
        "\n",
        "\n",
        "    carry = state_new = positions_new, velocities_new\n",
        "    output = positions_new\n",
        "    return (carry, output)    "
      ],
      "execution_count": null,
      "outputs": []
    },
    {
      "cell_type": "code",
      "metadata": {
        "id": "LdDekRhjeJGZ"
      },
      "source": [
        "def simulate(step_function, initial_state, num_steps):\n",
        "    outputs = scan(step_function, initial_state, jnp.arange(num_steps))[1]\n",
        "    return outputs\n",
        "\n",
        "\n",
        "pinned_vertices = [0, 4]\n",
        "simulate_step_explicit_jit = jit(partial(simulate_step_explicit, \n",
        "                                             forces_fn=calculate_forces,\n",
        "                                             masses=masses,\n",
        "                                             pinned_vertices=pinned_vertices,\n",
        "                                             dt=dt_explicit))\n",
        "\n",
        "\n",
        "simulate_explicit = jit(partial(simulate, simulate_step_explicit_jit), static_argnames='num_steps')\n",
        "\n",
        "initial_state = positions, velocities\n",
        "history_explicit = simulate_explicit(initial_state, 50000)"
      ],
      "execution_count": null,
      "outputs": []
    },
    {
      "cell_type": "code",
      "metadata": {
        "id": "0RGnElXPUICb"
      },
      "source": [
        "def frame_data(positions, triangles):\n",
        "    return [\n",
        "       get_vertices_go(positions),\n",
        "       get_mesh_go(positions, triangles)\n",
        "    ]\n",
        "\n",
        "def animate_cloth(history, triangles, dt, fps=30):\n",
        "\n",
        "    fig = make_fig(frame_data(positions, triangles))\n",
        "\n",
        "    fps_simulation = 1 / dt\n",
        "    skip = np.floor(fps_simulation / fps).astype(np.int32)\n",
        "    fps_adjusted = fps_simulation / skip\n",
        "    print('fps was adjusted to:', fps_adjusted)\n",
        "\n",
        "    fig.update_layout(updatemenus=[dict(type=\"buttons\",\n",
        "                          buttons=[dict(label=\"Play\",\n",
        "                                        method=\"animate\",\n",
        "                                        args=[None, dict(frame=dict(redraw=True,fromcurrent=True, mode='immediate'))]\n",
        "                                        )])])\n",
        "\n",
        "    fig.layout.updatemenus[0].buttons[0].args[1]['frame']['duration'] = 1000.0 / fps_adjusted\n",
        "\n",
        "    indices = np.arange(0, len(history), skip)\n",
        "    frames = [go.Frame(data=frame_data(history[i], triangles)) for i in indices]\n",
        "\n",
        "    fig.update(frames=frames)\n",
        "    fig.show()\n",
        "\n",
        "animate_cloth(history_explicit, triangles, dt_explicit)"
      ],
      "execution_count": null,
      "outputs": []
    },
    {
      "cell_type": "markdown",
      "metadata": {
        "id": "t_tilGgbdf22"
      },
      "source": [
        "## Implicit Integration"
      ]
    },
    {
      "cell_type": "code",
      "metadata": {
        "id": "PXJzEvM1Oojj"
      },
      "source": [
        "h = dt = 0.01"
      ],
      "execution_count": null,
      "outputs": []
    },
    {
      "cell_type": "code",
      "metadata": {
        "id": "fi6hA1jsQKtz"
      },
      "source": [
        "calculate_force_derivatives = jacfwd(calculate_forces)\n",
        "# or equivalently (I think?):\n",
        "# calculate_force_derivatives = hessian(total_energy)"
      ],
      "execution_count": null,
      "outputs": []
    },
    {
      "cell_type": "code",
      "metadata": {
        "id": "Xlz1xWzmR6k9"
      },
      "source": [
        "M = jnp.diag(masses)\n",
        "\n",
        "\n",
        "S = jnp.identity(system_size)\n",
        "\n",
        "for i in pinned_vertices:\n",
        "    S = index_update(S, index[3*i:3*i+3, 3*i:3*i+3], 0.0)\n",
        "\n",
        "# DynDef: Since S is symmetric, we could just write SAS, \n",
        "# but the transpose makes the projection a little more visually obvious.\n",
        "\n",
        "# needed for PPCG\n",
        "I = np.identity(system_size)\n",
        "z = jnp.zeros(system_size)"
      ],
      "execution_count": null,
      "outputs": []
    },
    {
      "cell_type": "code",
      "metadata": {
        "id": "XFzL5mj7RROj"
      },
      "source": [
        "def simulate_step_implicit(carry, step_number, params): \n",
        "    positions, velocities = carry\n",
        "\n",
        "    k, rest_positions_2D, triangles = params\n",
        "\n",
        "    f0 = calculate_forces(positions.flatten())\n",
        "    dfdx = calculate_force_derivatives(positions.flatten())\n",
        "\n",
        "    f0 = f0 + gravity_forces\n",
        "\n",
        "    v0 = velocities.flatten()\n",
        "\n",
        "    # Equation (16) in Baraff-Witkin.\n",
        "    A = M - (h * h) * dfdx\n",
        "    b = h * (f0 + h * (dfdx @ v0))\n",
        "\n",
        "    # Prefiltering the system (from PPCG) \n",
        "    # see also: Dynamic Deformables Course Notes section 10.1.1 \n",
        "    LHS = (S @ A @ S) + I - S\n",
        "    c = b - A @ z\n",
        "    rhs = S @ c\n",
        "\n",
        "    LHS_func = lambda x : LHS @ x\n",
        "\n",
        "    y = jax.scipy.sparse.linalg.cg(LHS_func, rhs)[0]\n",
        "\n",
        "    x = y + z\n",
        "\n",
        "    delta_v = x.reshape(-1, 3)\n",
        "\n",
        "    velocities_new = velocities + delta_v\n",
        "    positions_new  = positions + velocities_new * dt\n",
        "\n",
        "    carry = state_new = positions_new, velocities_new\n",
        "    output = positions_new\n",
        "    return (carry, output)"
      ],
      "execution_count": null,
      "outputs": []
    },
    {
      "cell_type": "code",
      "metadata": {
        "id": "uhwXk_ECRpNv"
      },
      "source": [
        "def simulate_full(k, positions, velocities):\n",
        "    params = k, rest_positions_2D, triangles\n",
        "    simulate_step_partial = partial(simulate_step_implicit, params=params)\n",
        "\n",
        "    carry0 = positions, velocities\n",
        "    history = scan(simulate_step_partial, carry0, np.arange(steps))[1]\n",
        "    return history\n",
        "\n",
        "history = jit(simulate_full)(10000.0, positions, velocities)"
      ],
      "execution_count": null,
      "outputs": []
    },
    {
      "cell_type": "code",
      "metadata": {
        "id": "yQbz1PtZTD2L"
      },
      "source": [
        "import matplotlib.pyplot as plt\n",
        "\n",
        "dfdx = calculate_force_derivatives(history[-1].flatten(), rest_positions_2D, triangles, 200.0, 200.0)\n",
        "print(dfdx.shape)\n",
        "plt.figure(figsize=(8,8))\n",
        "plt.spy(dfdx, markersize=2.8);"
      ],
      "execution_count": null,
      "outputs": []
    },
    {
      "cell_type": "markdown",
      "metadata": {
        "id": "6S8sZ0pl4kiZ"
      },
      "source": [
        "Shoutouts:\n",
        "\n",
        "Eric Jang Ray Tracing in JAX\n",
        "\n",
        "Dynamics Deformables "
      ]
    }
  ]
}